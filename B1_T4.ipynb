{
 "cells": [
  {
   "cell_type": "code",
   "execution_count": 1,
   "id": "310f38df",
   "metadata": {},
   "outputs": [],
   "source": [
    "# IMporting the libraries\n",
    "import pandas as pd\n",
    "import numpy as np\n",
    "import matplotlib.pyplot as plt\n",
    "import seaborn as sns\n",
    "\n",
    "import warnings\n",
    "warnings.filterwarnings(\"ignore\")\n"
   ]
  },
  {
   "cell_type": "markdown",
   "id": "f90094f1",
   "metadata": {},
   "source": [
    "# Data Collection "
   ]
  },
  {
   "cell_type": "code",
   "execution_count": 2,
   "id": "2aa0f714",
   "metadata": {},
   "outputs": [
    {
     "name": "stdout",
     "output_type": "stream",
     "text": [
      "           Tour_ID                   country age_group  \\\n",
      "0  tour_id1hffseyw                     ITALY     45-64   \n",
      "1  tour_idnacd7zag            UNITED KINGDOM     25-44   \n",
      "2  tour_id62vz7e71  UNITED STATES OF AMERICA       65+   \n",
      "3  tour_idrc76tzix                    RWANDA     25-44   \n",
      "4  tour_idn723m0n9  UNITED STATES OF AMERICA     45-64   \n",
      "\n",
      "                travel_with  total_female  total_male  \\\n",
      "0             With Children           0.0         2.0   \n",
      "1               With Spouse           1.0         1.0   \n",
      "2               With Spouse           1.0         1.0   \n",
      "3  With Spouse and Children           3.0         1.0   \n",
      "4                     Alone           0.0         1.0   \n",
      "\n",
      "                          purpose     main_activity  \\\n",
      "0  Visiting Friends and Relatives     Beach Tourism   \n",
      "1            Leisure and Holidays  Wildlife Tourism   \n",
      "2            Leisure and Holidays   Widlife Tourism   \n",
      "3            Leisure and Holidays     Beach Tourism   \n",
      "4            Leisure and Holidays   Widlife Tourism   \n",
      "\n",
      "                   info_source tour_arrangement  ... package_accomodation  \\\n",
      "0           Friends, relatives     Package Tour  ...                  Yes   \n",
      "1  Travel agent, tour operator     Package Tour  ...                  Yes   \n",
      "2  Travel agent, tour operator     Package Tour  ...                  Yes   \n",
      "3               Radio, TV, Web      Independent  ...                   No   \n",
      "4  Travel agent, tour operator     Package Tour  ...                  Yes   \n",
      "\n",
      "  package_food package_transport_tz package_sightseeing package_guided_tour  \\\n",
      "0          Yes                  Yes                  No                  No   \n",
      "1          Yes                  Yes                  No                  No   \n",
      "2          Yes                  Yes                 Yes                 Yes   \n",
      "3           No                   No                  No                  No   \n",
      "4          Yes                  Yes                  No                 Yes   \n",
      "\n",
      "  package_insurance night_mainland  night_zanzibar  first_trip_tz  \\\n",
      "0                No              0               7            Yes   \n",
      "1                No              0               7            Yes   \n",
      "2                No              6               6            Yes   \n",
      "3                No              3               0             No   \n",
      "4               Yes              7               0            Yes   \n",
      "\n",
      "  cost_category  \n",
      "0     High Cost  \n",
      "1     High Cost  \n",
      "2   Higher Cost  \n",
      "3    Lower Cost  \n",
      "4   Higher Cost  \n",
      "\n",
      "[5 rows x 21 columns]\n"
     ]
    }
   ],
   "source": [
    "#Read Dataset  \n",
    "data=pd.read_csv('Train.csv')\n",
    "print(data.head())"
   ]
  },
  {
   "cell_type": "markdown",
   "id": "13da3e87",
   "metadata": {},
   "source": [
    "# Exploratory Data Analysis"
   ]
  },
  {
   "cell_type": "code",
   "execution_count": 3,
   "id": "d57f8dd5",
   "metadata": {},
   "outputs": [
    {
     "name": "stdout",
     "output_type": "stream",
     "text": [
      "(18506, 21)\n"
     ]
    }
   ],
   "source": [
    "print(data.shape)"
   ]
  },
  {
   "cell_type": "code",
   "execution_count": 4,
   "id": "3aeabf4a",
   "metadata": {},
   "outputs": [
    {
     "name": "stdout",
     "output_type": "stream",
     "text": [
      "Index(['Tour_ID', 'country', 'age_group', 'travel_with', 'total_female',\n",
      "       'total_male', 'purpose', 'main_activity', 'info_source',\n",
      "       'tour_arrangement', 'package_transport_int', 'package_accomodation',\n",
      "       'package_food', 'package_transport_tz', 'package_sightseeing',\n",
      "       'package_guided_tour', 'package_insurance', 'night_mainland',\n",
      "       'night_zanzibar', 'first_trip_tz', 'cost_category'],\n",
      "      dtype='object')\n"
     ]
    }
   ],
   "source": [
    "print(data.columns)"
   ]
  },
  {
   "cell_type": "code",
   "execution_count": 5,
   "id": "a068c102",
   "metadata": {
    "scrolled": true
   },
   "outputs": [
    {
     "data": {
      "text/plain": [
       "Tour_ID                   object\n",
       "country                   object\n",
       "age_group                 object\n",
       "travel_with               object\n",
       "total_female             float64\n",
       "total_male               float64\n",
       "purpose                   object\n",
       "main_activity             object\n",
       "info_source               object\n",
       "tour_arrangement          object\n",
       "package_transport_int     object\n",
       "package_accomodation      object\n",
       "package_food              object\n",
       "package_transport_tz      object\n",
       "package_sightseeing       object\n",
       "package_guided_tour       object\n",
       "package_insurance         object\n",
       "night_mainland             int64\n",
       "night_zanzibar             int64\n",
       "first_trip_tz             object\n",
       "cost_category             object\n",
       "dtype: object"
      ]
     },
     "execution_count": 5,
     "metadata": {},
     "output_type": "execute_result"
    }
   ],
   "source": [
    "data.dtypes"
   ]
  },
  {
   "cell_type": "code",
   "execution_count": 6,
   "id": "6ac3f790",
   "metadata": {},
   "outputs": [
    {
     "data": {
      "text/html": [
       "<div>\n",
       "<style scoped>\n",
       "    .dataframe tbody tr th:only-of-type {\n",
       "        vertical-align: middle;\n",
       "    }\n",
       "\n",
       "    .dataframe tbody tr th {\n",
       "        vertical-align: top;\n",
       "    }\n",
       "\n",
       "    .dataframe thead th {\n",
       "        text-align: right;\n",
       "    }\n",
       "</style>\n",
       "<table border=\"1\" class=\"dataframe\">\n",
       "  <thead>\n",
       "    <tr style=\"text-align: right;\">\n",
       "      <th></th>\n",
       "      <th>total_female</th>\n",
       "      <th>total_male</th>\n",
       "      <th>night_mainland</th>\n",
       "      <th>night_zanzibar</th>\n",
       "    </tr>\n",
       "  </thead>\n",
       "  <tbody>\n",
       "    <tr>\n",
       "      <th>count</th>\n",
       "      <td>18504.000000</td>\n",
       "      <td>18500.000000</td>\n",
       "      <td>18506.000000</td>\n",
       "      <td>18506.000000</td>\n",
       "    </tr>\n",
       "    <tr>\n",
       "      <th>mean</th>\n",
       "      <td>0.936230</td>\n",
       "      <td>0.998757</td>\n",
       "      <td>9.141576</td>\n",
       "      <td>2.493516</td>\n",
       "    </tr>\n",
       "    <tr>\n",
       "      <th>std</th>\n",
       "      <td>1.215582</td>\n",
       "      <td>1.173177</td>\n",
       "      <td>14.127449</td>\n",
       "      <td>5.275156</td>\n",
       "    </tr>\n",
       "    <tr>\n",
       "      <th>min</th>\n",
       "      <td>0.000000</td>\n",
       "      <td>0.000000</td>\n",
       "      <td>0.000000</td>\n",
       "      <td>0.000000</td>\n",
       "    </tr>\n",
       "    <tr>\n",
       "      <th>25%</th>\n",
       "      <td>0.000000</td>\n",
       "      <td>1.000000</td>\n",
       "      <td>3.000000</td>\n",
       "      <td>0.000000</td>\n",
       "    </tr>\n",
       "    <tr>\n",
       "      <th>50%</th>\n",
       "      <td>1.000000</td>\n",
       "      <td>1.000000</td>\n",
       "      <td>6.000000</td>\n",
       "      <td>0.000000</td>\n",
       "    </tr>\n",
       "    <tr>\n",
       "      <th>75%</th>\n",
       "      <td>1.000000</td>\n",
       "      <td>1.000000</td>\n",
       "      <td>11.000000</td>\n",
       "      <td>4.000000</td>\n",
       "    </tr>\n",
       "    <tr>\n",
       "      <th>max</th>\n",
       "      <td>49.000000</td>\n",
       "      <td>58.000000</td>\n",
       "      <td>365.000000</td>\n",
       "      <td>240.000000</td>\n",
       "    </tr>\n",
       "  </tbody>\n",
       "</table>\n",
       "</div>"
      ],
      "text/plain": [
       "       total_female    total_male  night_mainland  night_zanzibar\n",
       "count  18504.000000  18500.000000    18506.000000    18506.000000\n",
       "mean       0.936230      0.998757        9.141576        2.493516\n",
       "std        1.215582      1.173177       14.127449        5.275156\n",
       "min        0.000000      0.000000        0.000000        0.000000\n",
       "25%        0.000000      1.000000        3.000000        0.000000\n",
       "50%        1.000000      1.000000        6.000000        0.000000\n",
       "75%        1.000000      1.000000       11.000000        4.000000\n",
       "max       49.000000     58.000000      365.000000      240.000000"
      ]
     },
     "execution_count": 6,
     "metadata": {},
     "output_type": "execute_result"
    }
   ],
   "source": [
    "data.describe()"
   ]
  },
  {
   "cell_type": "markdown",
   "id": "d528c6a5",
   "metadata": {},
   "source": [
    "## 1.Univariate analysis"
   ]
  },
  {
   "cell_type": "code",
   "execution_count": 7,
   "id": "d95e3c58",
   "metadata": {},
   "outputs": [
    {
     "data": {
      "text/plain": [
       "<AxesSubplot:xlabel='first_trip_tz', ylabel='count'>"
      ]
     },
     "execution_count": 7,
     "metadata": {},
     "output_type": "execute_result"
    },
    {
     "data": {
      "image/png": "[encoded data removed]",
      "text/plain": [
       "<Figure size 576x576 with 1 Axes>"
      ]
     },
     "metadata": {
      "needs_background": "light"
     },
     "output_type": "display_data"
    }
   ],
   "source": [
    "plt.figure(figsize=(8,8))\n",
    "sns.countplot(x='first_trip_tz',data=data)"
   ]
  },
  {
   "cell_type": "code",
   "execution_count": 8,
   "id": "32e378de",
   "metadata": {},
   "outputs": [
    {
     "data": {
      "text/plain": [
       "<AxesSubplot:xlabel='cost_category', ylabel='count'>"
      ]
     },
     "execution_count": 8,
     "metadata": {},
     "output_type": "execute_result"
    },
    {
     "data": {
      "image/png": "[encoded data removed]",
      "text/plain": [
       "<Figure size 720x720 with 1 Axes>"
      ]
     },
     "metadata": {
      "needs_background": "light"
     },
     "output_type": "display_data"
    }
   ],
   "source": [
    "plt.figure(figsize=(10,10))\n",
    "sns.countplot(x='cost_category',data=data)"
   ]
  },
  {
   "cell_type": "code",
   "execution_count": 9,
   "id": "e6ad92e7",
   "metadata": {},
   "outputs": [
    {
     "data": {
      "text/plain": [
       "<AxesSubplot:xlabel='age_group', ylabel='count'>"
      ]
     },
     "execution_count": 9,
     "metadata": {},
     "output_type": "execute_result"
    },
    {
     "data": {
      "image/png": "[encoded data removed]",
      "text/plain": [
       "<Figure size 720x720 with 1 Axes>"
      ]
     },
     "metadata": {
      "needs_background": "light"
     },
     "output_type": "display_data"
    }
   ],
   "source": [
    "plt.figure(figsize=(10,10))\n",
    "sns.countplot(x='age_group',data=data)"
   ]
  },
  {
   "cell_type": "code",
   "execution_count": 10,
   "id": "dbade70e",
   "metadata": {},
   "outputs": [
    {
     "data": {
      "text/plain": [
       "<AxesSubplot:xlabel='purpose', ylabel='count'>"
      ]
     },
     "execution_count": 10,
     "metadata": {},
     "output_type": "execute_result"
    },
    {
     "data": {
      "image/png": "[encoded data removed]",
      "text/plain": [
       "<Figure size 1440x720 with 1 Axes>"
      ]
     },
     "metadata": {
      "needs_background": "light"
     },
     "output_type": "display_data"
    }
   ],
   "source": [
    "plt.figure(figsize=(20,10))\n",
    "sns.countplot(x='purpose',data=data)"
   ]
  },
  {
   "cell_type": "markdown",
   "id": "8bd702b1",
   "metadata": {},
   "source": [
    "## 2.Bivariate analysis"
   ]
  },
  {
   "cell_type": "code",
   "execution_count": 11,
   "id": "24996f4d",
   "metadata": {},
   "outputs": [
    {
     "data": {
      "text/plain": [
       "<AxesSubplot:>"
      ]
     },
     "execution_count": 11,
     "metadata": {},
     "output_type": "execute_result"
    },
    {
     "data": {
      "image/png": "[encoded data removed]",
      "text/plain": [
       "<Figure size 1440x576 with 2 Axes>"
      ]
     },
     "metadata": {
      "needs_background": "light"
     },
     "output_type": "display_data"
    }
   ],
   "source": [
    "# Correlation Analysis of numerical features\n",
    "corrmatrix=data.corr()\n",
    "plt.subplots(figsize=(20,8))\n",
    "sns.heatmap(corrmatrix,vmin=-.2,vmax=.8,annot=True,linewidth=0.2,cmap='YlGnBu')"
   ]
  },
  {
   "cell_type": "code",
   "execution_count": 24,
   "id": "ae052a05",
   "metadata": {},
   "outputs": [
    {
     "data": {
      "text/plain": [
       "<AxesSubplot:xlabel='age_group', ylabel='purpose'>"
      ]
     },
     "execution_count": 24,
     "metadata": {},
     "output_type": "execute_result"
    },
    {
     "data": {
      "image/png": "[encoded data removed]",
      "text/plain": [
       "<Figure size 720x720 with 1 Axes>"
      ]
     },
     "metadata": {
      "needs_background": "light"
     },
     "output_type": "display_data"
    }
   ],
   "source": [
    "plt.figure(figsize=(10,10))\n",
    "sns.scatterplot(data['age_group'],data['purpose'])"
   ]
  },
  {
   "cell_type": "code",
   "execution_count": 25,
   "id": "37578ea7",
   "metadata": {},
   "outputs": [
    {
     "data": {
      "text/plain": [
       "<AxesSubplot:xlabel='cost_category', ylabel='count'>"
      ]
     },
     "execution_count": 25,
     "metadata": {},
     "output_type": "execute_result"
    },
    {
     "data": {
      "image/png": "[encoded data removed]",
      "text/plain": [
       "<Figure size 1440x720 with 1 Axes>"
      ]
     },
     "metadata": {
      "needs_background": "light"
     },
     "output_type": "display_data"
    }
   ],
   "source": [
    "plt.figure(figsize=(20,10))\n",
    "sns.countplot(x='cost_category',hue='age_group',data=data)"
   ]
  },
  {
   "cell_type": "markdown",
   "id": "d40bc71c",
   "metadata": {},
   "source": [
    "# PreProcessing"
   ]
  },
  {
   "cell_type": "markdown",
   "id": "b0514ff2",
   "metadata": {},
   "source": [
    "##  1.Missing value Handling"
   ]
  },
  {
   "cell_type": "code",
   "execution_count": 26,
   "id": "2f288ea3",
   "metadata": {},
   "outputs": [
    {
     "data": {
      "text/plain": [
       "Tour_ID                     0\n",
       "country                     0\n",
       "age_group                   0\n",
       "travel_with              1075\n",
       "total_female                2\n",
       "total_male                  6\n",
       "purpose                     0\n",
       "main_activity               0\n",
       "info_source                 0\n",
       "tour_arrangement            0\n",
       "package_transport_int       0\n",
       "package_accomodation        0\n",
       "package_food                0\n",
       "package_transport_tz        0\n",
       "package_sightseeing         0\n",
       "package_guided_tour         0\n",
       "package_insurance           0\n",
       "night_mainland              0\n",
       "night_zanzibar              0\n",
       "first_trip_tz               0\n",
       "cost_category               0\n",
       "dtype: int64"
      ]
     },
     "execution_count": 26,
     "metadata": {},
     "output_type": "execute_result"
    }
   ],
   "source": [
    "data.isna().sum()"
   ]
  },
  {
   "cell_type": "markdown",
   "id": "0541303e",
   "metadata": {},
   "source": [
    "There are 1075 missing values in the column travel_with , 2 in the column total_female and 6 in the total_male"
   ]
  },
  {
   "cell_type": "code",
   "execution_count": 27,
   "id": "eee2af53",
   "metadata": {},
   "outputs": [],
   "source": [
    "data['total_female']=data['total_female'].fillna(data['total_female'].median())"
   ]
  },
  {
   "cell_type": "code",
   "execution_count": 28,
   "id": "bb8bf1fe",
   "metadata": {},
   "outputs": [],
   "source": [
    "data['total_male']=data['total_male'].fillna(data['total_male'].median())"
   ]
  },
  {
   "cell_type": "code",
   "execution_count": 29,
   "id": "14eaa0e9",
   "metadata": {},
   "outputs": [],
   "source": [
    "data.ffill(axis=0,inplace=True)"
   ]
  },
  {
   "cell_type": "code",
   "execution_count": 30,
   "id": "aff69696",
   "metadata": {},
   "outputs": [
    {
     "data": {
      "text/plain": [
       "Tour_ID                  0\n",
       "country                  0\n",
       "age_group                0\n",
       "travel_with              0\n",
       "total_female             0\n",
       "total_male               0\n",
       "purpose                  0\n",
       "main_activity            0\n",
       "info_source              0\n",
       "tour_arrangement         0\n",
       "package_transport_int    0\n",
       "package_accomodation     0\n",
       "package_food             0\n",
       "package_transport_tz     0\n",
       "package_sightseeing      0\n",
       "package_guided_tour      0\n",
       "package_insurance        0\n",
       "night_mainland           0\n",
       "night_zanzibar           0\n",
       "first_trip_tz            0\n",
       "cost_category            0\n",
       "dtype: int64"
      ]
     },
     "execution_count": 30,
     "metadata": {},
     "output_type": "execute_result"
    }
   ],
   "source": [
    "data.isna().sum()"
   ]
  },
  {
   "cell_type": "markdown",
   "id": "69c8b10a",
   "metadata": {},
   "source": [
    "Now all the missing values are replaced"
   ]
  },
  {
   "cell_type": "markdown",
   "id": "21b48b3a",
   "metadata": {},
   "source": [
    "## 2.Outlier detection and handling"
   ]
  },
  {
   "cell_type": "code",
   "execution_count": 31,
   "id": "7c1ee5cb",
   "metadata": {},
   "outputs": [
    {
     "data": {
      "image/png": "[encoded data removed]",
      "text/plain": [
       "<Figure size 432x288 with 1 Axes>"
      ]
     },
     "metadata": {
      "needs_background": "light"
     },
     "output_type": "display_data"
    }
   ],
   "source": [
    "# Checking outliers in the column 'night_mainland'\n",
    "plt.boxplot(data['night_mainland'])\n",
    "plt.title(\"night_mainland\")\n",
    "plt.show()"
   ]
  },
  {
   "cell_type": "code",
   "execution_count": 32,
   "id": "ba4b2824",
   "metadata": {},
   "outputs": [
    {
     "data": {
      "image/png": "[encoded data removed]",
      "text/plain": [
       "<Figure size 432x288 with 1 Axes>"
      ]
     },
     "metadata": {
      "needs_background": "light"
     },
     "output_type": "display_data"
    }
   ],
   "source": [
    "# Checking outliers in the column 'night_zanzibar'\n",
    "plt.boxplot(data['night_zanzibar'])\n",
    "plt.title(\"night_zanzibar\")\n",
    "plt.show()"
   ]
  },
  {
   "cell_type": "code",
   "execution_count": 33,
   "id": "ec7ec7c3",
   "metadata": {},
   "outputs": [
    {
     "name": "stdout",
     "output_type": "stream",
     "text": [
      "-9.0\n",
      "23.0\n"
     ]
    }
   ],
   "source": [
    "# Handling outliers in the column 'night_mainland'\n",
    "Q1=np.percentile(data['night_mainland'],25,interpolation='midpoint')\n",
    "Q2=np.percentile(data['night_mainland'],50,interpolation='midpoint')\n",
    "Q3=np.percentile(data['night_mainland'],75,interpolation='midpoint')\n",
    "IQR = Q3 - Q1\n",
    "lowlim=Q1-1.5*IQR\n",
    "uplim=Q3+1.5*IQR\n",
    "print(lowlim)\n",
    "print(uplim)\n",
    "outlier = []\n",
    "for x in data['night_mainland']:\n",
    "    if ((x>uplim) or (x,lowlim)):\n",
    "        outlier.append(x)\n",
    "ind1=data['night_mainland']>uplim\n",
    "x=data.loc[ind1].index\n",
    "\n",
    "data.drop(x,inplace = True)"
   ]
  },
  {
   "cell_type": "code",
   "execution_count": 34,
   "id": "291aa929",
   "metadata": {},
   "outputs": [
    {
     "name": "stdout",
     "output_type": "stream",
     "text": [
      "6.0\n",
      "10.0\n"
     ]
    }
   ],
   "source": [
    "# Handling outliers in the column 'night_zanzibar'\n",
    "\n",
    "Q1=np.percentile(data['night_zanzibar'],25,interpolation='midpoint')\n",
    "Q2=np.percentile(data['night_zanzibar'],50,interpolation='midpoint')\n",
    "Q3=np.percentile(data['night_zanzibar'],75,interpolation='midpoint')\n",
    "IQR = Q3 - Q1\n",
    "lowlim=Q1=1.5*IQR\n",
    "uplim=Q3+1.5*IQR\n",
    "print(lowlim)\n",
    "print(uplim)\n",
    "outlier = []\n",
    "for x in data['night_zanzibar']:\n",
    "    if ((x>uplim) or (x<lowlim)):\n",
    "        outlier.append(x)\n",
    "ind1=data['night_zanzibar']>uplim\n",
    "y=data.loc[ind1].index\n",
    "\n",
    "data.drop(y,inplace = True)\n"
   ]
  },
  {
   "cell_type": "code",
   "execution_count": 35,
   "id": "644c7e51",
   "metadata": {},
   "outputs": [
    {
     "data": {
      "image/png": "[encoded data removed]",
      "text/plain": [
       "<Figure size 432x288 with 1 Axes>"
      ]
     },
     "metadata": {
      "needs_background": "light"
     },
     "output_type": "display_data"
    }
   ],
   "source": [
    "# Checking outliers in the column 'total_female'\n",
    "plt.boxplot(data['total_female'])\n",
    "plt.title(\"total_female\")\n",
    "plt.show()"
   ]
  },
  {
   "cell_type": "code",
   "execution_count": 36,
   "id": "dcf7a534",
   "metadata": {},
   "outputs": [
    {
     "data": {
      "image/png": "[encoded data removed]",
      "text/plain": [
       "<Figure size 432x288 with 1 Axes>"
      ]
     },
     "metadata": {
      "needs_background": "light"
     },
     "output_type": "display_data"
    }
   ],
   "source": [
    "# Checking outliers in the column 'total_male'\n",
    "plt.boxplot(data['total_male'])\n",
    "plt.title(\"total_male\")\n",
    "plt.show()"
   ]
  },
  {
   "cell_type": "code",
   "execution_count": 37,
   "id": "7db3fb48",
   "metadata": {},
   "outputs": [
    {
     "name": "stdout",
     "output_type": "stream",
     "text": [
      "1.5\n",
      "2.5\n"
     ]
    }
   ],
   "source": [
    "# Handling outliers in the column 'total_female'\n",
    "Q1=np.percentile(data['total_female'],25,interpolation='midpoint')\n",
    "Q2=np.percentile(data['total_female'],50,interpolation='midpoint')\n",
    "Q3=np.percentile(data['total_female'],75,interpolation='midpoint')\n",
    "IQR = Q3 - Q1\n",
    "lowlim=Q1=1.5*IQR\n",
    "uplim=Q3+1.5*IQR\n",
    "print(lowlim)\n",
    "print(uplim)\n",
    "outlier = []\n",
    "for x in data['total_female']:\n",
    "    if ((x>uplim) or (x<lowlim)):\n",
    "        outlier.append(x)\n",
    "ind1=data['total_female']>uplim\n",
    "y=data.loc[ind1].index\n",
    "\n",
    "data.drop(y,inplace = True)\n"
   ]
  },
  {
   "cell_type": "code",
   "execution_count": 38,
   "id": "e331edcd",
   "metadata": {},
   "outputs": [
    {
     "name": "stdout",
     "output_type": "stream",
     "text": [
      "0.0\n",
      "1.0\n"
     ]
    }
   ],
   "source": [
    "# Handling outliers in the column 'total_male'\n",
    "Q1=np.percentile(data['total_male'],25,interpolation='midpoint')\n",
    "Q2=np.percentile(data['total_male'],50,interpolation='midpoint')\n",
    "Q3=np.percentile(data['total_male'],75,interpolation='midpoint')\n",
    "IQR = Q3 - Q1\n",
    "lowlim=Q1=1.5*IQR\n",
    "uplim=Q3+1.5*IQR\n",
    "print(lowlim)\n",
    "print(uplim)\n",
    "outlier = []\n",
    "for x in data['total_male']:\n",
    "    if ((x>uplim) or (x<lowlim)):\n",
    "        outlier.append(x)\n",
    "ind1=data['total_male']>uplim\n",
    "y=data.loc[ind1].index\n",
    "\n",
    "data.drop(y,inplace = True)"
   ]
  },
  {
   "cell_type": "markdown",
   "id": "4ae1c5b8",
   "metadata": {},
   "source": [
    "## 3.Encoding"
   ]
  },
  {
   "cell_type": "code",
   "execution_count": 39,
   "id": "21ec4594",
   "metadata": {},
   "outputs": [
    {
     "data": {
      "text/plain": [
       "Alone                           7148\n",
       "With Spouse                     4670\n",
       "With Other Friends/Relatives    1676\n",
       "With Children                    323\n",
       "With Spouse and Children         317\n",
       "Name: travel_with, dtype: int64"
      ]
     },
     "execution_count": 39,
     "metadata": {},
     "output_type": "execute_result"
    }
   ],
   "source": [
    "data['travel_with'].value_counts()"
   ]
  },
  {
   "cell_type": "code",
   "execution_count": 40,
   "id": "f1180f99",
   "metadata": {},
   "outputs": [],
   "source": [
    "# Label Encoding 'travel_with'\n",
    "from sklearn.preprocessing import LabelEncoder\n",
    "label_en=LabelEncoder()\n",
    "a=['travel_with']\n",
    "for i in np.arange(len(a)):\n",
    "    data[a[i]]=label_en.fit_transform(data[a[i]])\n"
   ]
  },
  {
   "cell_type": "code",
   "execution_count": 41,
   "id": "e987ca44",
   "metadata": {},
   "outputs": [
    {
     "data": {
      "text/plain": [
       "0    7148\n",
       "3    4670\n",
       "2    1676\n",
       "1     323\n",
       "4     317\n",
       "Name: travel_with, dtype: int64"
      ]
     },
     "execution_count": 41,
     "metadata": {},
     "output_type": "execute_result"
    }
   ],
   "source": [
    "data['travel_with'].value_counts()"
   ]
  },
  {
   "cell_type": "code",
   "execution_count": 42,
   "id": "67267f8d",
   "metadata": {},
   "outputs": [
    {
     "data": {
      "text/plain": [
       "Leisure and Holidays              8905\n",
       "Business                          1953\n",
       "Visiting Friends and Relatives    1654\n",
       "Meetings and Conference           1044\n",
       "Other                              253\n",
       "Volunteering                       184\n",
       "Scientific and Academic            135\n",
       "Medical                              6\n",
       "Name: purpose, dtype: int64"
      ]
     },
     "execution_count": 42,
     "metadata": {},
     "output_type": "execute_result"
    }
   ],
   "source": [
    "data['purpose'].value_counts()"
   ]
  },
  {
   "cell_type": "code",
   "execution_count": 43,
   "id": "836dd9d9",
   "metadata": {},
   "outputs": [],
   "source": [
    "# Label Encoding 'purpose'\n",
    "label_en=LabelEncoder()\n",
    "a=['purpose']\n",
    "for i in np.arange(len(a)):\n",
    "    data[a[i]]=label_en.fit_transform(data[a[i]])"
   ]
  },
  {
   "cell_type": "code",
   "execution_count": 44,
   "id": "a17e56b4",
   "metadata": {},
   "outputs": [
    {
     "data": {
      "text/plain": [
       "1    8905\n",
       "0    1953\n",
       "6    1654\n",
       "3    1044\n",
       "4     253\n",
       "7     184\n",
       "5     135\n",
       "2       6\n",
       "Name: purpose, dtype: int64"
      ]
     },
     "execution_count": 44,
     "metadata": {},
     "output_type": "execute_result"
    }
   ],
   "source": [
    "data['purpose'].value_counts()"
   ]
  },
  {
   "cell_type": "code",
   "execution_count": 45,
   "id": "bbf0dbab",
   "metadata": {},
   "outputs": [
    {
     "data": {
      "text/plain": [
       "Widlife Tourism             4686\n",
       "Beach Tourism               2971\n",
       "Wildlife Tourism            1735\n",
       "Conference Tourism          1561\n",
       "Hunting Tourism             1337\n",
       "Cultural Tourism            1062\n",
       "Mountain Climbing            453\n",
       "Business                     188\n",
       "Bird Tourism                 115\n",
       "Diving and Sport Fishing      26\n",
       "Name: main_activity, dtype: int64"
      ]
     },
     "execution_count": 45,
     "metadata": {},
     "output_type": "execute_result"
    }
   ],
   "source": [
    "data['main_activity'].value_counts()"
   ]
  },
  {
   "cell_type": "code",
   "execution_count": 46,
   "id": "f5fb9999",
   "metadata": {},
   "outputs": [],
   "source": [
    "# Label Encoding 'main_activity'\n",
    "label_en=LabelEncoder()\n",
    "a=['main_activity']\n",
    "for i in np.arange(len(a)):\n",
    "    data[a[i]]=label_en.fit_transform(data[a[i]])"
   ]
  },
  {
   "cell_type": "code",
   "execution_count": 47,
   "id": "1ae7f54d",
   "metadata": {},
   "outputs": [
    {
     "data": {
      "text/plain": [
       "8    4686\n",
       "0    2971\n",
       "9    1735\n",
       "3    1561\n",
       "6    1337\n",
       "4    1062\n",
       "7     453\n",
       "2     188\n",
       "1     115\n",
       "5      26\n",
       "Name: main_activity, dtype: int64"
      ]
     },
     "execution_count": 47,
     "metadata": {},
     "output_type": "execute_result"
    }
   ],
   "source": [
    "data['main_activity'].value_counts()"
   ]
  },
  {
   "cell_type": "code",
   "execution_count": 48,
   "id": "b49add20",
   "metadata": {},
   "outputs": [
    {
     "data": {
      "text/plain": [
       "Travel agent, tour operator        6237\n",
       "Friends, relatives                 4539\n",
       "Others                             1064\n",
       "Newspaper, magazines, brochures     967\n",
       "Radio, TV, Web                      916\n",
       "Trade fair                          187\n",
       "Tanzania Mission Abroad             145\n",
       "Inflight magazines                   79\n",
       "Name: info_source, dtype: int64"
      ]
     },
     "execution_count": 48,
     "metadata": {},
     "output_type": "execute_result"
    }
   ],
   "source": [
    "data['info_source'].value_counts()"
   ]
  },
  {
   "cell_type": "code",
   "execution_count": 49,
   "id": "537357b2",
   "metadata": {},
   "outputs": [],
   "source": [
    "# Label Encoding 'info_source'\n",
    "label_en=LabelEncoder()\n",
    "a=['info_source']\n",
    "for i in np.arange(len(a)):\n",
    "    data[a[i]]=label_en.fit_transform(data[a[i]])"
   ]
  },
  {
   "cell_type": "code",
   "execution_count": 50,
   "id": "e5c238ff",
   "metadata": {},
   "outputs": [
    {
     "data": {
      "text/plain": [
       "7    6237\n",
       "0    4539\n",
       "3    1064\n",
       "2     967\n",
       "4     916\n",
       "6     187\n",
       "5     145\n",
       "1      79\n",
       "Name: info_source, dtype: int64"
      ]
     },
     "execution_count": 50,
     "metadata": {},
     "output_type": "execute_result"
    }
   ],
   "source": [
    "data['info_source'].value_counts()"
   ]
  },
  {
   "cell_type": "code",
   "execution_count": 51,
   "id": "07bf867a",
   "metadata": {},
   "outputs": [
    {
     "data": {
      "text/plain": [
       "Normal Cost     4238\n",
       "Higher Cost     3365\n",
       "High Cost       2861\n",
       "Lower Cost      2191\n",
       "Low Cost        1292\n",
       "Highest Cost     187\n",
       "Name: cost_category, dtype: int64"
      ]
     },
     "execution_count": 51,
     "metadata": {},
     "output_type": "execute_result"
    }
   ],
   "source": [
    "data['cost_category'].value_counts()"
   ]
  },
  {
   "cell_type": "code",
   "execution_count": 52,
   "id": "20d331dc",
   "metadata": {},
   "outputs": [],
   "source": [
    "# Label Encoding 'cost_category'\n",
    "label_en=LabelEncoder()\n",
    "a=['cost_category']\n",
    "for i in np.arange(len(a)):\n",
    "    data[a[i]]=label_en.fit_transform(data[a[i]])\n"
   ]
  },
  {
   "cell_type": "code",
   "execution_count": 53,
   "id": "4843337d",
   "metadata": {},
   "outputs": [
    {
     "data": {
      "text/plain": [
       "5    4238\n",
       "1    3365\n",
       "0    2861\n",
       "4    2191\n",
       "3    1292\n",
       "2     187\n",
       "Name: cost_category, dtype: int64"
      ]
     },
     "execution_count": 53,
     "metadata": {},
     "output_type": "execute_result"
    }
   ],
   "source": [
    "data['cost_category'].value_counts()"
   ]
  },
  {
   "cell_type": "code",
   "execution_count": 54,
   "id": "a0f3a910",
   "metadata": {},
   "outputs": [
    {
     "data": {
      "text/plain": [
       "25-44    7082\n",
       "45-64    4239\n",
       "18-24    1472\n",
       "65+      1263\n",
       "<18        78\n",
       "Name: age_group, dtype: int64"
      ]
     },
     "execution_count": 54,
     "metadata": {},
     "output_type": "execute_result"
    }
   ],
   "source": [
    "data['age_group'].value_counts()"
   ]
  },
  {
   "cell_type": "code",
   "execution_count": 55,
   "id": "1f598756",
   "metadata": {},
   "outputs": [],
   "source": [
    "# Label Encoding 'age_group'\n",
    "label_en=LabelEncoder()\n",
    "a=['age_group']\n",
    "for i in np.arange(len(a)):\n",
    "    data[a[i]]=label_en.fit_transform(data[a[i]])\n"
   ]
  },
  {
   "cell_type": "code",
   "execution_count": 56,
   "id": "55ab206d",
   "metadata": {},
   "outputs": [
    {
     "data": {
      "text/plain": [
       "1    7082\n",
       "2    4239\n",
       "0    1472\n",
       "3    1263\n",
       "4      78\n",
       "Name: age_group, dtype: int64"
      ]
     },
     "execution_count": 56,
     "metadata": {},
     "output_type": "execute_result"
    }
   ],
   "source": [
    "data['age_group'].value_counts()"
   ]
  },
  {
   "cell_type": "code",
   "execution_count": 57,
   "id": "d4b641ab",
   "metadata": {},
   "outputs": [
    {
     "data": {
      "text/plain": [
       "Package Tour    7200\n",
       "Independent     6934\n",
       "Name: tour_arrangement, dtype: int64"
      ]
     },
     "execution_count": 57,
     "metadata": {},
     "output_type": "execute_result"
    }
   ],
   "source": [
    "data['tour_arrangement'].value_counts()"
   ]
  },
  {
   "cell_type": "code",
   "execution_count": 58,
   "id": "987d5997",
   "metadata": {},
   "outputs": [],
   "source": [
    "# Label Encoding 'tour_arrangement'\n",
    "label_en=LabelEncoder()\n",
    "a=['tour_arrangement']\n",
    "for i in np.arange(len(a)):\n",
    "    data[a[i]]=label_en.fit_transform(data[a[i]])\n"
   ]
  },
  {
   "cell_type": "code",
   "execution_count": 59,
   "id": "39c9b49a",
   "metadata": {},
   "outputs": [
    {
     "data": {
      "text/plain": [
       "1    7200\n",
       "0    6934\n",
       "Name: tour_arrangement, dtype: int64"
      ]
     },
     "execution_count": 59,
     "metadata": {},
     "output_type": "execute_result"
    }
   ],
   "source": [
    "data['tour_arrangement'].value_counts()"
   ]
  },
  {
   "cell_type": "code",
   "execution_count": 60,
   "id": "f01f7884",
   "metadata": {},
   "outputs": [
    {
     "data": {
      "text/plain": [
       "UNITED STATES OF AMERICA    2349\n",
       "UNITED KINGDOM              1504\n",
       "ITALY                       1156\n",
       "KENYA                        687\n",
       "FRANCE                       666\n",
       "                            ... \n",
       "CYPRUS                         1\n",
       "ECUADO                         1\n",
       "LIBERIA                        1\n",
       "AFGHANISTAN                    1\n",
       "MONTENEGRO                     1\n",
       "Name: country, Length: 127, dtype: int64"
      ]
     },
     "execution_count": 60,
     "metadata": {},
     "output_type": "execute_result"
    }
   ],
   "source": [
    "data['country'].value_counts()"
   ]
  },
  {
   "cell_type": "code",
   "execution_count": 61,
   "id": "d8cd39d3",
   "metadata": {},
   "outputs": [],
   "source": [
    "# Label Encoding 'country'\n",
    "label_en=LabelEncoder()\n",
    "a=['country']\n",
    "for i in np.arange(len(a)):\n",
    "    data[a[i]]=label_en.fit_transform(data[a[i]])\n"
   ]
  },
  {
   "cell_type": "code",
   "execution_count": 62,
   "id": "e5aeb44e",
   "metadata": {},
   "outputs": [
    {
     "data": {
      "text/plain": [
       "120    2349\n",
       "119    1504\n",
       "53     1156\n",
       "57      687\n",
       "40      666\n",
       "       ... \n",
       "29        1\n",
       "35        1\n",
       "63        1\n",
       "0         1\n",
       "74        1\n",
       "Name: country, Length: 127, dtype: int64"
      ]
     },
     "execution_count": 62,
     "metadata": {},
     "output_type": "execute_result"
    }
   ],
   "source": [
    "data['country'].value_counts()"
   ]
  },
  {
   "cell_type": "code",
   "execution_count": 63,
   "id": "f930bfa4",
   "metadata": {},
   "outputs": [
    {
     "data": {
      "text/html": [
       "<div>\n",
       "<style scoped>\n",
       "    .dataframe tbody tr th:only-of-type {\n",
       "        vertical-align: middle;\n",
       "    }\n",
       "\n",
       "    .dataframe tbody tr th {\n",
       "        vertical-align: top;\n",
       "    }\n",
       "\n",
       "    .dataframe thead th {\n",
       "        text-align: right;\n",
       "    }\n",
       "</style>\n",
       "<table border=\"1\" class=\"dataframe\">\n",
       "  <thead>\n",
       "    <tr style=\"text-align: right;\">\n",
       "      <th></th>\n",
       "      <th>Tour_ID</th>\n",
       "      <th>country</th>\n",
       "      <th>age_group</th>\n",
       "      <th>travel_with</th>\n",
       "      <th>total_female</th>\n",
       "      <th>total_male</th>\n",
       "      <th>purpose</th>\n",
       "      <th>main_activity</th>\n",
       "      <th>info_source</th>\n",
       "      <th>tour_arrangement</th>\n",
       "      <th>...</th>\n",
       "      <th>night_zanzibar</th>\n",
       "      <th>cost_category</th>\n",
       "      <th>package_transport_int_Yes</th>\n",
       "      <th>package_accomodation_Yes</th>\n",
       "      <th>package_food_Yes</th>\n",
       "      <th>package_transport_tz_Yes</th>\n",
       "      <th>package_sightseeing_Yes</th>\n",
       "      <th>package_guided_tour_Yes</th>\n",
       "      <th>package_insurance_Yes</th>\n",
       "      <th>first_trip_tz_Yes</th>\n",
       "    </tr>\n",
       "  </thead>\n",
       "  <tbody>\n",
       "    <tr>\n",
       "      <th>1</th>\n",
       "      <td>tour_idnacd7zag</td>\n",
       "      <td>119</td>\n",
       "      <td>1</td>\n",
       "      <td>3</td>\n",
       "      <td>1.0</td>\n",
       "      <td>1.0</td>\n",
       "      <td>1</td>\n",
       "      <td>9</td>\n",
       "      <td>7</td>\n",
       "      <td>1</td>\n",
       "      <td>...</td>\n",
       "      <td>7</td>\n",
       "      <td>0</td>\n",
       "      <td>1</td>\n",
       "      <td>1</td>\n",
       "      <td>1</td>\n",
       "      <td>1</td>\n",
       "      <td>0</td>\n",
       "      <td>0</td>\n",
       "      <td>0</td>\n",
       "      <td>1</td>\n",
       "    </tr>\n",
       "    <tr>\n",
       "      <th>2</th>\n",
       "      <td>tour_id62vz7e71</td>\n",
       "      <td>120</td>\n",
       "      <td>3</td>\n",
       "      <td>3</td>\n",
       "      <td>1.0</td>\n",
       "      <td>1.0</td>\n",
       "      <td>1</td>\n",
       "      <td>8</td>\n",
       "      <td>7</td>\n",
       "      <td>1</td>\n",
       "      <td>...</td>\n",
       "      <td>6</td>\n",
       "      <td>1</td>\n",
       "      <td>1</td>\n",
       "      <td>1</td>\n",
       "      <td>1</td>\n",
       "      <td>1</td>\n",
       "      <td>1</td>\n",
       "      <td>1</td>\n",
       "      <td>0</td>\n",
       "      <td>1</td>\n",
       "    </tr>\n",
       "    <tr>\n",
       "      <th>4</th>\n",
       "      <td>tour_idn723m0n9</td>\n",
       "      <td>120</td>\n",
       "      <td>2</td>\n",
       "      <td>0</td>\n",
       "      <td>0.0</td>\n",
       "      <td>1.0</td>\n",
       "      <td>1</td>\n",
       "      <td>8</td>\n",
       "      <td>7</td>\n",
       "      <td>1</td>\n",
       "      <td>...</td>\n",
       "      <td>0</td>\n",
       "      <td>1</td>\n",
       "      <td>1</td>\n",
       "      <td>1</td>\n",
       "      <td>1</td>\n",
       "      <td>1</td>\n",
       "      <td>0</td>\n",
       "      <td>1</td>\n",
       "      <td>1</td>\n",
       "      <td>1</td>\n",
       "    </tr>\n",
       "    <tr>\n",
       "      <th>5</th>\n",
       "      <td>tour_id8aylf7ba</td>\n",
       "      <td>40</td>\n",
       "      <td>1</td>\n",
       "      <td>3</td>\n",
       "      <td>1.0</td>\n",
       "      <td>1.0</td>\n",
       "      <td>1</td>\n",
       "      <td>8</td>\n",
       "      <td>2</td>\n",
       "      <td>1</td>\n",
       "      <td>...</td>\n",
       "      <td>7</td>\n",
       "      <td>0</td>\n",
       "      <td>1</td>\n",
       "      <td>1</td>\n",
       "      <td>1</td>\n",
       "      <td>0</td>\n",
       "      <td>0</td>\n",
       "      <td>0</td>\n",
       "      <td>0</td>\n",
       "      <td>1</td>\n",
       "    </tr>\n",
       "    <tr>\n",
       "      <th>6</th>\n",
       "      <td>tour_idvcadicba</td>\n",
       "      <td>109</td>\n",
       "      <td>1</td>\n",
       "      <td>3</td>\n",
       "      <td>1.0</td>\n",
       "      <td>1.0</td>\n",
       "      <td>1</td>\n",
       "      <td>9</td>\n",
       "      <td>2</td>\n",
       "      <td>0</td>\n",
       "      <td>...</td>\n",
       "      <td>0</td>\n",
       "      <td>5</td>\n",
       "      <td>0</td>\n",
       "      <td>0</td>\n",
       "      <td>0</td>\n",
       "      <td>0</td>\n",
       "      <td>0</td>\n",
       "      <td>0</td>\n",
       "      <td>0</td>\n",
       "      <td>1</td>\n",
       "    </tr>\n",
       "    <tr>\n",
       "      <th>...</th>\n",
       "      <td>...</td>\n",
       "      <td>...</td>\n",
       "      <td>...</td>\n",
       "      <td>...</td>\n",
       "      <td>...</td>\n",
       "      <td>...</td>\n",
       "      <td>...</td>\n",
       "      <td>...</td>\n",
       "      <td>...</td>\n",
       "      <td>...</td>\n",
       "      <td>...</td>\n",
       "      <td>...</td>\n",
       "      <td>...</td>\n",
       "      <td>...</td>\n",
       "      <td>...</td>\n",
       "      <td>...</td>\n",
       "      <td>...</td>\n",
       "      <td>...</td>\n",
       "      <td>...</td>\n",
       "      <td>...</td>\n",
       "      <td>...</td>\n",
       "    </tr>\n",
       "    <tr>\n",
       "      <th>18501</th>\n",
       "      <td>tour_idmp5ciw50</td>\n",
       "      <td>57</td>\n",
       "      <td>2</td>\n",
       "      <td>0</td>\n",
       "      <td>0.0</td>\n",
       "      <td>1.0</td>\n",
       "      <td>4</td>\n",
       "      <td>6</td>\n",
       "      <td>3</td>\n",
       "      <td>0</td>\n",
       "      <td>...</td>\n",
       "      <td>0</td>\n",
       "      <td>4</td>\n",
       "      <td>0</td>\n",
       "      <td>0</td>\n",
       "      <td>0</td>\n",
       "      <td>0</td>\n",
       "      <td>0</td>\n",
       "      <td>0</td>\n",
       "      <td>0</td>\n",
       "      <td>0</td>\n",
       "    </tr>\n",
       "    <tr>\n",
       "      <th>18502</th>\n",
       "      <td>tour_ideq0yncfs</td>\n",
       "      <td>57</td>\n",
       "      <td>2</td>\n",
       "      <td>0</td>\n",
       "      <td>1.0</td>\n",
       "      <td>0.0</td>\n",
       "      <td>3</td>\n",
       "      <td>9</td>\n",
       "      <td>3</td>\n",
       "      <td>0</td>\n",
       "      <td>...</td>\n",
       "      <td>0</td>\n",
       "      <td>4</td>\n",
       "      <td>0</td>\n",
       "      <td>0</td>\n",
       "      <td>0</td>\n",
       "      <td>0</td>\n",
       "      <td>0</td>\n",
       "      <td>0</td>\n",
       "      <td>0</td>\n",
       "      <td>0</td>\n",
       "    </tr>\n",
       "    <tr>\n",
       "      <th>18503</th>\n",
       "      <td>tour_idv7pz3vs8</td>\n",
       "      <td>120</td>\n",
       "      <td>1</td>\n",
       "      <td>4</td>\n",
       "      <td>2.0</td>\n",
       "      <td>1.0</td>\n",
       "      <td>1</td>\n",
       "      <td>8</td>\n",
       "      <td>7</td>\n",
       "      <td>0</td>\n",
       "      <td>...</td>\n",
       "      <td>0</td>\n",
       "      <td>1</td>\n",
       "      <td>0</td>\n",
       "      <td>0</td>\n",
       "      <td>0</td>\n",
       "      <td>0</td>\n",
       "      <td>0</td>\n",
       "      <td>0</td>\n",
       "      <td>0</td>\n",
       "      <td>1</td>\n",
       "    </tr>\n",
       "    <tr>\n",
       "      <th>18504</th>\n",
       "      <td>tour_idy6ydo00w</td>\n",
       "      <td>120</td>\n",
       "      <td>1</td>\n",
       "      <td>3</td>\n",
       "      <td>1.0</td>\n",
       "      <td>1.0</td>\n",
       "      <td>1</td>\n",
       "      <td>3</td>\n",
       "      <td>4</td>\n",
       "      <td>1</td>\n",
       "      <td>...</td>\n",
       "      <td>4</td>\n",
       "      <td>1</td>\n",
       "      <td>1</td>\n",
       "      <td>1</td>\n",
       "      <td>1</td>\n",
       "      <td>1</td>\n",
       "      <td>1</td>\n",
       "      <td>1</td>\n",
       "      <td>0</td>\n",
       "      <td>0</td>\n",
       "    </tr>\n",
       "    <tr>\n",
       "      <th>18505</th>\n",
       "      <td>tour_idceoq9por</td>\n",
       "      <td>83</td>\n",
       "      <td>1</td>\n",
       "      <td>4</td>\n",
       "      <td>2.0</td>\n",
       "      <td>1.0</td>\n",
       "      <td>6</td>\n",
       "      <td>9</td>\n",
       "      <td>0</td>\n",
       "      <td>0</td>\n",
       "      <td>...</td>\n",
       "      <td>0</td>\n",
       "      <td>3</td>\n",
       "      <td>0</td>\n",
       "      <td>0</td>\n",
       "      <td>0</td>\n",
       "      <td>0</td>\n",
       "      <td>0</td>\n",
       "      <td>0</td>\n",
       "      <td>0</td>\n",
       "      <td>0</td>\n",
       "    </tr>\n",
       "  </tbody>\n",
       "</table>\n",
       "<p>14134 rows × 21 columns</p>\n",
       "</div>"
      ],
      "text/plain": [
       "               Tour_ID  country  age_group  travel_with  total_female  \\\n",
       "1      tour_idnacd7zag      119          1            3           1.0   \n",
       "2      tour_id62vz7e71      120          3            3           1.0   \n",
       "4      tour_idn723m0n9      120          2            0           0.0   \n",
       "5      tour_id8aylf7ba       40          1            3           1.0   \n",
       "6      tour_idvcadicba      109          1            3           1.0   \n",
       "...                ...      ...        ...          ...           ...   \n",
       "18501  tour_idmp5ciw50       57          2            0           0.0   \n",
       "18502  tour_ideq0yncfs       57          2            0           1.0   \n",
       "18503  tour_idv7pz3vs8      120          1            4           2.0   \n",
       "18504  tour_idy6ydo00w      120          1            3           1.0   \n",
       "18505  tour_idceoq9por       83          1            4           2.0   \n",
       "\n",
       "       total_male  purpose  main_activity  info_source  tour_arrangement  ...  \\\n",
       "1             1.0        1              9            7                 1  ...   \n",
       "2             1.0        1              8            7                 1  ...   \n",
       "4             1.0        1              8            7                 1  ...   \n",
       "5             1.0        1              8            2                 1  ...   \n",
       "6             1.0        1              9            2                 0  ...   \n",
       "...           ...      ...            ...          ...               ...  ...   \n",
       "18501         1.0        4              6            3                 0  ...   \n",
       "18502         0.0        3              9            3                 0  ...   \n",
       "18503         1.0        1              8            7                 0  ...   \n",
       "18504         1.0        1              3            4                 1  ...   \n",
       "18505         1.0        6              9            0                 0  ...   \n",
       "\n",
       "       night_zanzibar  cost_category  package_transport_int_Yes  \\\n",
       "1                   7              0                          1   \n",
       "2                   6              1                          1   \n",
       "4                   0              1                          1   \n",
       "5                   7              0                          1   \n",
       "6                   0              5                          0   \n",
       "...               ...            ...                        ...   \n",
       "18501               0              4                          0   \n",
       "18502               0              4                          0   \n",
       "18503               0              1                          0   \n",
       "18504               4              1                          1   \n",
       "18505               0              3                          0   \n",
       "\n",
       "       package_accomodation_Yes  package_food_Yes  package_transport_tz_Yes  \\\n",
       "1                             1                 1                         1   \n",
       "2                             1                 1                         1   \n",
       "4                             1                 1                         1   \n",
       "5                             1                 1                         0   \n",
       "6                             0                 0                         0   \n",
       "...                         ...               ...                       ...   \n",
       "18501                         0                 0                         0   \n",
       "18502                         0                 0                         0   \n",
       "18503                         0                 0                         0   \n",
       "18504                         1                 1                         1   \n",
       "18505                         0                 0                         0   \n",
       "\n",
       "       package_sightseeing_Yes  package_guided_tour_Yes  \\\n",
       "1                            0                        0   \n",
       "2                            1                        1   \n",
       "4                            0                        1   \n",
       "5                            0                        0   \n",
       "6                            0                        0   \n",
       "...                        ...                      ...   \n",
       "18501                        0                        0   \n",
       "18502                        0                        0   \n",
       "18503                        0                        0   \n",
       "18504                        1                        1   \n",
       "18505                        0                        0   \n",
       "\n",
       "       package_insurance_Yes  first_trip_tz_Yes  \n",
       "1                          0                  1  \n",
       "2                          0                  1  \n",
       "4                          1                  1  \n",
       "5                          0                  1  \n",
       "6                          0                  1  \n",
       "...                      ...                ...  \n",
       "18501                      0                  0  \n",
       "18502                      0                  0  \n",
       "18503                      0                  1  \n",
       "18504                      0                  0  \n",
       "18505                      0                  0  \n",
       "\n",
       "[14134 rows x 21 columns]"
      ]
     },
     "execution_count": 63,
     "metadata": {},
     "output_type": "execute_result"
    }
   ],
   "source": [
    "# One hot encoding\n",
    "data = pd.get_dummies(data, columns = ['package_transport_int','package_accomodation','package_food','package_transport_tz', 'package_sightseeing',\n",
    "       'package_guided_tour', 'package_insurance','first_trip_tz'],drop_first=True)\n",
    "data"
   ]
  },
  {
   "cell_type": "markdown",
   "id": "a7a9b7ef",
   "metadata": {},
   "source": [
    "## 4.Feature reduction"
   ]
  },
  {
   "cell_type": "code",
   "execution_count": 64,
   "id": "080f13c8",
   "metadata": {},
   "outputs": [
    {
     "data": {
      "text/plain": [
       "Index(['Tour_ID', 'country', 'age_group', 'travel_with', 'total_female',\n",
       "       'total_male', 'purpose', 'main_activity', 'info_source',\n",
       "       'tour_arrangement', 'night_mainland', 'night_zanzibar', 'cost_category',\n",
       "       'package_transport_int_Yes', 'package_accomodation_Yes',\n",
       "       'package_food_Yes', 'package_transport_tz_Yes',\n",
       "       'package_sightseeing_Yes', 'package_guided_tour_Yes',\n",
       "       'package_insurance_Yes', 'first_trip_tz_Yes'],\n",
       "      dtype='object')"
      ]
     },
     "execution_count": 64,
     "metadata": {},
     "output_type": "execute_result"
    }
   ],
   "source": [
    "# Checking columns\n",
    "data.columns"
   ]
  },
  {
   "cell_type": "code",
   "execution_count": 65,
   "id": "a4ffee5c",
   "metadata": {},
   "outputs": [],
   "source": [
    "# Combining 'total_male'  and 'total_female'\n",
    "data['total_size']=data['total_male']+data['total_female']\n",
    "data.drop(['total_male'],axis=1,inplace=True)\n",
    "data.drop(['total_female'],axis=1,inplace=True)"
   ]
  },
  {
   "cell_type": "code",
   "execution_count": 66,
   "id": "13516fae",
   "metadata": {},
   "outputs": [],
   "source": [
    "data.drop(['Tour_ID'],axis=1,inplace=True)"
   ]
  },
  {
   "cell_type": "code",
   "execution_count": 67,
   "id": "a9df31bf",
   "metadata": {},
   "outputs": [
    {
     "data": {
      "text/plain": [
       "Index(['country', 'age_group', 'travel_with', 'purpose', 'main_activity',\n",
       "       'info_source', 'tour_arrangement', 'night_mainland', 'night_zanzibar',\n",
       "       'cost_category', 'package_transport_int_Yes',\n",
       "       'package_accomodation_Yes', 'package_food_Yes',\n",
       "       'package_transport_tz_Yes', 'package_sightseeing_Yes',\n",
       "       'package_guided_tour_Yes', 'package_insurance_Yes', 'first_trip_tz_Yes',\n",
       "       'total_size'],\n",
       "      dtype='object')"
      ]
     },
     "execution_count": 67,
     "metadata": {},
     "output_type": "execute_result"
    }
   ],
   "source": [
    "data.columns"
   ]
  },
  {
   "cell_type": "code",
   "execution_count": 68,
   "id": "debffdb2",
   "metadata": {},
   "outputs": [
    {
     "data": {
      "text/html": [
       "<div>\n",
       "<style scoped>\n",
       "    .dataframe tbody tr th:only-of-type {\n",
       "        vertical-align: middle;\n",
       "    }\n",
       "\n",
       "    .dataframe tbody tr th {\n",
       "        vertical-align: top;\n",
       "    }\n",
       "\n",
       "    .dataframe thead th {\n",
       "        text-align: right;\n",
       "    }\n",
       "</style>\n",
       "<table border=\"1\" class=\"dataframe\">\n",
       "  <thead>\n",
       "    <tr style=\"text-align: right;\">\n",
       "      <th></th>\n",
       "      <th>country</th>\n",
       "      <th>age_group</th>\n",
       "      <th>travel_with</th>\n",
       "      <th>purpose</th>\n",
       "      <th>main_activity</th>\n",
       "      <th>info_source</th>\n",
       "      <th>tour_arrangement</th>\n",
       "      <th>night_mainland</th>\n",
       "      <th>night_zanzibar</th>\n",
       "      <th>cost_category</th>\n",
       "      <th>package_transport_int_Yes</th>\n",
       "      <th>package_accomodation_Yes</th>\n",
       "      <th>package_food_Yes</th>\n",
       "      <th>package_transport_tz_Yes</th>\n",
       "      <th>package_sightseeing_Yes</th>\n",
       "      <th>package_guided_tour_Yes</th>\n",
       "      <th>package_insurance_Yes</th>\n",
       "      <th>first_trip_tz_Yes</th>\n",
       "      <th>total_size</th>\n",
       "    </tr>\n",
       "  </thead>\n",
       "  <tbody>\n",
       "    <tr>\n",
       "      <th>1</th>\n",
       "      <td>119</td>\n",
       "      <td>1</td>\n",
       "      <td>3</td>\n",
       "      <td>1</td>\n",
       "      <td>9</td>\n",
       "      <td>7</td>\n",
       "      <td>1</td>\n",
       "      <td>0</td>\n",
       "      <td>7</td>\n",
       "      <td>0</td>\n",
       "      <td>1</td>\n",
       "      <td>1</td>\n",
       "      <td>1</td>\n",
       "      <td>1</td>\n",
       "      <td>0</td>\n",
       "      <td>0</td>\n",
       "      <td>0</td>\n",
       "      <td>1</td>\n",
       "      <td>2.0</td>\n",
       "    </tr>\n",
       "    <tr>\n",
       "      <th>2</th>\n",
       "      <td>120</td>\n",
       "      <td>3</td>\n",
       "      <td>3</td>\n",
       "      <td>1</td>\n",
       "      <td>8</td>\n",
       "      <td>7</td>\n",
       "      <td>1</td>\n",
       "      <td>6</td>\n",
       "      <td>6</td>\n",
       "      <td>1</td>\n",
       "      <td>1</td>\n",
       "      <td>1</td>\n",
       "      <td>1</td>\n",
       "      <td>1</td>\n",
       "      <td>1</td>\n",
       "      <td>1</td>\n",
       "      <td>0</td>\n",
       "      <td>1</td>\n",
       "      <td>2.0</td>\n",
       "    </tr>\n",
       "    <tr>\n",
       "      <th>4</th>\n",
       "      <td>120</td>\n",
       "      <td>2</td>\n",
       "      <td>0</td>\n",
       "      <td>1</td>\n",
       "      <td>8</td>\n",
       "      <td>7</td>\n",
       "      <td>1</td>\n",
       "      <td>7</td>\n",
       "      <td>0</td>\n",
       "      <td>1</td>\n",
       "      <td>1</td>\n",
       "      <td>1</td>\n",
       "      <td>1</td>\n",
       "      <td>1</td>\n",
       "      <td>0</td>\n",
       "      <td>1</td>\n",
       "      <td>1</td>\n",
       "      <td>1</td>\n",
       "      <td>1.0</td>\n",
       "    </tr>\n",
       "    <tr>\n",
       "      <th>5</th>\n",
       "      <td>40</td>\n",
       "      <td>1</td>\n",
       "      <td>3</td>\n",
       "      <td>1</td>\n",
       "      <td>8</td>\n",
       "      <td>2</td>\n",
       "      <td>1</td>\n",
       "      <td>14</td>\n",
       "      <td>7</td>\n",
       "      <td>0</td>\n",
       "      <td>1</td>\n",
       "      <td>1</td>\n",
       "      <td>1</td>\n",
       "      <td>0</td>\n",
       "      <td>0</td>\n",
       "      <td>0</td>\n",
       "      <td>0</td>\n",
       "      <td>1</td>\n",
       "      <td>2.0</td>\n",
       "    </tr>\n",
       "    <tr>\n",
       "      <th>6</th>\n",
       "      <td>109</td>\n",
       "      <td>1</td>\n",
       "      <td>3</td>\n",
       "      <td>1</td>\n",
       "      <td>9</td>\n",
       "      <td>2</td>\n",
       "      <td>0</td>\n",
       "      <td>7</td>\n",
       "      <td>0</td>\n",
       "      <td>5</td>\n",
       "      <td>0</td>\n",
       "      <td>0</td>\n",
       "      <td>0</td>\n",
       "      <td>0</td>\n",
       "      <td>0</td>\n",
       "      <td>0</td>\n",
       "      <td>0</td>\n",
       "      <td>1</td>\n",
       "      <td>2.0</td>\n",
       "    </tr>\n",
       "    <tr>\n",
       "      <th>...</th>\n",
       "      <td>...</td>\n",
       "      <td>...</td>\n",
       "      <td>...</td>\n",
       "      <td>...</td>\n",
       "      <td>...</td>\n",
       "      <td>...</td>\n",
       "      <td>...</td>\n",
       "      <td>...</td>\n",
       "      <td>...</td>\n",
       "      <td>...</td>\n",
       "      <td>...</td>\n",
       "      <td>...</td>\n",
       "      <td>...</td>\n",
       "      <td>...</td>\n",
       "      <td>...</td>\n",
       "      <td>...</td>\n",
       "      <td>...</td>\n",
       "      <td>...</td>\n",
       "      <td>...</td>\n",
       "    </tr>\n",
       "    <tr>\n",
       "      <th>18501</th>\n",
       "      <td>57</td>\n",
       "      <td>2</td>\n",
       "      <td>0</td>\n",
       "      <td>4</td>\n",
       "      <td>6</td>\n",
       "      <td>3</td>\n",
       "      <td>0</td>\n",
       "      <td>3</td>\n",
       "      <td>0</td>\n",
       "      <td>4</td>\n",
       "      <td>0</td>\n",
       "      <td>0</td>\n",
       "      <td>0</td>\n",
       "      <td>0</td>\n",
       "      <td>0</td>\n",
       "      <td>0</td>\n",
       "      <td>0</td>\n",
       "      <td>0</td>\n",
       "      <td>1.0</td>\n",
       "    </tr>\n",
       "    <tr>\n",
       "      <th>18502</th>\n",
       "      <td>57</td>\n",
       "      <td>2</td>\n",
       "      <td>0</td>\n",
       "      <td>3</td>\n",
       "      <td>9</td>\n",
       "      <td>3</td>\n",
       "      <td>0</td>\n",
       "      <td>2</td>\n",
       "      <td>0</td>\n",
       "      <td>4</td>\n",
       "      <td>0</td>\n",
       "      <td>0</td>\n",
       "      <td>0</td>\n",
       "      <td>0</td>\n",
       "      <td>0</td>\n",
       "      <td>0</td>\n",
       "      <td>0</td>\n",
       "      <td>0</td>\n",
       "      <td>1.0</td>\n",
       "    </tr>\n",
       "    <tr>\n",
       "      <th>18503</th>\n",
       "      <td>120</td>\n",
       "      <td>1</td>\n",
       "      <td>4</td>\n",
       "      <td>1</td>\n",
       "      <td>8</td>\n",
       "      <td>7</td>\n",
       "      <td>0</td>\n",
       "      <td>9</td>\n",
       "      <td>0</td>\n",
       "      <td>1</td>\n",
       "      <td>0</td>\n",
       "      <td>0</td>\n",
       "      <td>0</td>\n",
       "      <td>0</td>\n",
       "      <td>0</td>\n",
       "      <td>0</td>\n",
       "      <td>0</td>\n",
       "      <td>1</td>\n",
       "      <td>3.0</td>\n",
       "    </tr>\n",
       "    <tr>\n",
       "      <th>18504</th>\n",
       "      <td>120</td>\n",
       "      <td>1</td>\n",
       "      <td>3</td>\n",
       "      <td>1</td>\n",
       "      <td>3</td>\n",
       "      <td>4</td>\n",
       "      <td>1</td>\n",
       "      <td>13</td>\n",
       "      <td>4</td>\n",
       "      <td>1</td>\n",
       "      <td>1</td>\n",
       "      <td>1</td>\n",
       "      <td>1</td>\n",
       "      <td>1</td>\n",
       "      <td>1</td>\n",
       "      <td>1</td>\n",
       "      <td>0</td>\n",
       "      <td>0</td>\n",
       "      <td>2.0</td>\n",
       "    </tr>\n",
       "    <tr>\n",
       "      <th>18505</th>\n",
       "      <td>83</td>\n",
       "      <td>1</td>\n",
       "      <td>4</td>\n",
       "      <td>6</td>\n",
       "      <td>9</td>\n",
       "      <td>0</td>\n",
       "      <td>0</td>\n",
       "      <td>22</td>\n",
       "      <td>0</td>\n",
       "      <td>3</td>\n",
       "      <td>0</td>\n",
       "      <td>0</td>\n",
       "      <td>0</td>\n",
       "      <td>0</td>\n",
       "      <td>0</td>\n",
       "      <td>0</td>\n",
       "      <td>0</td>\n",
       "      <td>0</td>\n",
       "      <td>3.0</td>\n",
       "    </tr>\n",
       "  </tbody>\n",
       "</table>\n",
       "<p>14134 rows × 19 columns</p>\n",
       "</div>"
      ],
      "text/plain": [
       "       country  age_group  travel_with  purpose  main_activity  info_source  \\\n",
       "1          119          1            3        1              9            7   \n",
       "2          120          3            3        1              8            7   \n",
       "4          120          2            0        1              8            7   \n",
       "5           40          1            3        1              8            2   \n",
       "6          109          1            3        1              9            2   \n",
       "...        ...        ...          ...      ...            ...          ...   \n",
       "18501       57          2            0        4              6            3   \n",
       "18502       57          2            0        3              9            3   \n",
       "18503      120          1            4        1              8            7   \n",
       "18504      120          1            3        1              3            4   \n",
       "18505       83          1            4        6              9            0   \n",
       "\n",
       "       tour_arrangement  night_mainland  night_zanzibar  cost_category  \\\n",
       "1                     1               0               7              0   \n",
       "2                     1               6               6              1   \n",
       "4                     1               7               0              1   \n",
       "5                     1              14               7              0   \n",
       "6                     0               7               0              5   \n",
       "...                 ...             ...             ...            ...   \n",
       "18501                 0               3               0              4   \n",
       "18502                 0               2               0              4   \n",
       "18503                 0               9               0              1   \n",
       "18504                 1              13               4              1   \n",
       "18505                 0              22               0              3   \n",
       "\n",
       "       package_transport_int_Yes  package_accomodation_Yes  package_food_Yes  \\\n",
       "1                              1                         1                 1   \n",
       "2                              1                         1                 1   \n",
       "4                              1                         1                 1   \n",
       "5                              1                         1                 1   \n",
       "6                              0                         0                 0   \n",
       "...                          ...                       ...               ...   \n",
       "18501                          0                         0                 0   \n",
       "18502                          0                         0                 0   \n",
       "18503                          0                         0                 0   \n",
       "18504                          1                         1                 1   \n",
       "18505                          0                         0                 0   \n",
       "\n",
       "       package_transport_tz_Yes  package_sightseeing_Yes  \\\n",
       "1                             1                        0   \n",
       "2                             1                        1   \n",
       "4                             1                        0   \n",
       "5                             0                        0   \n",
       "6                             0                        0   \n",
       "...                         ...                      ...   \n",
       "18501                         0                        0   \n",
       "18502                         0                        0   \n",
       "18503                         0                        0   \n",
       "18504                         1                        1   \n",
       "18505                         0                        0   \n",
       "\n",
       "       package_guided_tour_Yes  package_insurance_Yes  first_trip_tz_Yes  \\\n",
       "1                            0                      0                  1   \n",
       "2                            1                      0                  1   \n",
       "4                            1                      1                  1   \n",
       "5                            0                      0                  1   \n",
       "6                            0                      0                  1   \n",
       "...                        ...                    ...                ...   \n",
       "18501                        0                      0                  0   \n",
       "18502                        0                      0                  0   \n",
       "18503                        0                      0                  1   \n",
       "18504                        1                      0                  0   \n",
       "18505                        0                      0                  0   \n",
       "\n",
       "       total_size  \n",
       "1             2.0  \n",
       "2             2.0  \n",
       "4             1.0  \n",
       "5             2.0  \n",
       "6             2.0  \n",
       "...           ...  \n",
       "18501         1.0  \n",
       "18502         1.0  \n",
       "18503         3.0  \n",
       "18504         2.0  \n",
       "18505         3.0  \n",
       "\n",
       "[14134 rows x 19 columns]"
      ]
     },
     "execution_count": 68,
     "metadata": {},
     "output_type": "execute_result"
    }
   ],
   "source": [
    "data"
   ]
  },
  {
   "cell_type": "code",
   "execution_count": 69,
   "id": "b921c341",
   "metadata": {},
   "outputs": [
    {
     "data": {
      "text/html": [
       "<div>\n",
       "<style scoped>\n",
       "    .dataframe tbody tr th:only-of-type {\n",
       "        vertical-align: middle;\n",
       "    }\n",
       "\n",
       "    .dataframe tbody tr th {\n",
       "        vertical-align: top;\n",
       "    }\n",
       "\n",
       "    .dataframe thead th {\n",
       "        text-align: right;\n",
       "    }\n",
       "</style>\n",
       "<table border=\"1\" class=\"dataframe\">\n",
       "  <thead>\n",
       "    <tr style=\"text-align: right;\">\n",
       "      <th></th>\n",
       "      <th>country</th>\n",
       "      <th>age_group</th>\n",
       "      <th>travel_with</th>\n",
       "      <th>purpose</th>\n",
       "      <th>main_activity</th>\n",
       "      <th>info_source</th>\n",
       "      <th>tour_arrangement</th>\n",
       "      <th>night_mainland</th>\n",
       "      <th>night_zanzibar</th>\n",
       "      <th>cost_category</th>\n",
       "      <th>package_transport_int_Yes</th>\n",
       "      <th>package_accomodation_Yes</th>\n",
       "      <th>package_food_Yes</th>\n",
       "      <th>package_transport_tz_Yes</th>\n",
       "      <th>package_sightseeing_Yes</th>\n",
       "      <th>package_guided_tour_Yes</th>\n",
       "      <th>package_insurance_Yes</th>\n",
       "      <th>first_trip_tz_Yes</th>\n",
       "      <th>total_size</th>\n",
       "    </tr>\n",
       "  </thead>\n",
       "  <tbody>\n",
       "    <tr>\n",
       "      <th>count</th>\n",
       "      <td>14134.000000</td>\n",
       "      <td>14134.000000</td>\n",
       "      <td>14134.000000</td>\n",
       "      <td>14134.000000</td>\n",
       "      <td>14134.000000</td>\n",
       "      <td>14134.000000</td>\n",
       "      <td>14134.000000</td>\n",
       "      <td>14134.000000</td>\n",
       "      <td>14134.000000</td>\n",
       "      <td>14134.000000</td>\n",
       "      <td>14134.000000</td>\n",
       "      <td>14134.000000</td>\n",
       "      <td>14134.000000</td>\n",
       "      <td>14134.000000</td>\n",
       "      <td>14134.000000</td>\n",
       "      <td>14134.000000</td>\n",
       "      <td>14134.000000</td>\n",
       "      <td>14134.000000</td>\n",
       "      <td>14134.000000</td>\n",
       "    </tr>\n",
       "    <tr>\n",
       "      <th>mean</th>\n",
       "      <td>80.902434</td>\n",
       "      <td>1.391043</td>\n",
       "      <td>1.340951</td>\n",
       "      <td>1.765105</td>\n",
       "      <td>5.224848</td>\n",
       "      <td>3.847106</td>\n",
       "      <td>0.509410</td>\n",
       "      <td>6.691948</td>\n",
       "      <td>1.780388</td>\n",
       "      <td>2.658059</td>\n",
       "      <td>0.334583</td>\n",
       "      <td>0.492359</td>\n",
       "      <td>0.461582</td>\n",
       "      <td>0.424013</td>\n",
       "      <td>0.319230</td>\n",
       "      <td>0.340031</td>\n",
       "      <td>0.147800</td>\n",
       "      <td>0.684520</td>\n",
       "      <td>1.456912</td>\n",
       "    </tr>\n",
       "    <tr>\n",
       "      <th>std</th>\n",
       "      <td>40.359802</td>\n",
       "      <td>0.811355</td>\n",
       "      <td>1.425376</td>\n",
       "      <td>1.886021</td>\n",
       "      <td>3.338086</td>\n",
       "      <td>3.090221</td>\n",
       "      <td>0.499929</td>\n",
       "      <td>5.106429</td>\n",
       "      <td>2.798352</td>\n",
       "      <td>2.006259</td>\n",
       "      <td>0.471861</td>\n",
       "      <td>0.499959</td>\n",
       "      <td>0.498540</td>\n",
       "      <td>0.494210</td>\n",
       "      <td>0.466195</td>\n",
       "      <td>0.473736</td>\n",
       "      <td>0.354914</td>\n",
       "      <td>0.464723</td>\n",
       "      <td>0.564352</td>\n",
       "    </tr>\n",
       "    <tr>\n",
       "      <th>min</th>\n",
       "      <td>0.000000</td>\n",
       "      <td>0.000000</td>\n",
       "      <td>0.000000</td>\n",
       "      <td>0.000000</td>\n",
       "      <td>0.000000</td>\n",
       "      <td>0.000000</td>\n",
       "      <td>0.000000</td>\n",
       "      <td>0.000000</td>\n",
       "      <td>0.000000</td>\n",
       "      <td>0.000000</td>\n",
       "      <td>0.000000</td>\n",
       "      <td>0.000000</td>\n",
       "      <td>0.000000</td>\n",
       "      <td>0.000000</td>\n",
       "      <td>0.000000</td>\n",
       "      <td>0.000000</td>\n",
       "      <td>0.000000</td>\n",
       "      <td>0.000000</td>\n",
       "      <td>0.000000</td>\n",
       "    </tr>\n",
       "    <tr>\n",
       "      <th>25%</th>\n",
       "      <td>48.000000</td>\n",
       "      <td>1.000000</td>\n",
       "      <td>0.000000</td>\n",
       "      <td>1.000000</td>\n",
       "      <td>3.000000</td>\n",
       "      <td>0.000000</td>\n",
       "      <td>0.000000</td>\n",
       "      <td>3.000000</td>\n",
       "      <td>0.000000</td>\n",
       "      <td>1.000000</td>\n",
       "      <td>0.000000</td>\n",
       "      <td>0.000000</td>\n",
       "      <td>0.000000</td>\n",
       "      <td>0.000000</td>\n",
       "      <td>0.000000</td>\n",
       "      <td>0.000000</td>\n",
       "      <td>0.000000</td>\n",
       "      <td>0.000000</td>\n",
       "      <td>1.000000</td>\n",
       "    </tr>\n",
       "    <tr>\n",
       "      <th>50%</th>\n",
       "      <td>103.000000</td>\n",
       "      <td>1.000000</td>\n",
       "      <td>0.000000</td>\n",
       "      <td>1.000000</td>\n",
       "      <td>6.000000</td>\n",
       "      <td>4.000000</td>\n",
       "      <td>1.000000</td>\n",
       "      <td>6.000000</td>\n",
       "      <td>0.000000</td>\n",
       "      <td>3.000000</td>\n",
       "      <td>0.000000</td>\n",
       "      <td>0.000000</td>\n",
       "      <td>0.000000</td>\n",
       "      <td>0.000000</td>\n",
       "      <td>0.000000</td>\n",
       "      <td>0.000000</td>\n",
       "      <td>0.000000</td>\n",
       "      <td>1.000000</td>\n",
       "      <td>1.000000</td>\n",
       "    </tr>\n",
       "    <tr>\n",
       "      <th>75%</th>\n",
       "      <td>119.000000</td>\n",
       "      <td>2.000000</td>\n",
       "      <td>3.000000</td>\n",
       "      <td>1.000000</td>\n",
       "      <td>8.000000</td>\n",
       "      <td>7.000000</td>\n",
       "      <td>1.000000</td>\n",
       "      <td>10.000000</td>\n",
       "      <td>4.000000</td>\n",
       "      <td>5.000000</td>\n",
       "      <td>1.000000</td>\n",
       "      <td>1.000000</td>\n",
       "      <td>1.000000</td>\n",
       "      <td>1.000000</td>\n",
       "      <td>1.000000</td>\n",
       "      <td>1.000000</td>\n",
       "      <td>0.000000</td>\n",
       "      <td>1.000000</td>\n",
       "      <td>2.000000</td>\n",
       "    </tr>\n",
       "    <tr>\n",
       "      <th>max</th>\n",
       "      <td>126.000000</td>\n",
       "      <td>4.000000</td>\n",
       "      <td>4.000000</td>\n",
       "      <td>7.000000</td>\n",
       "      <td>9.000000</td>\n",
       "      <td>7.000000</td>\n",
       "      <td>1.000000</td>\n",
       "      <td>23.000000</td>\n",
       "      <td>10.000000</td>\n",
       "      <td>5.000000</td>\n",
       "      <td>1.000000</td>\n",
       "      <td>1.000000</td>\n",
       "      <td>1.000000</td>\n",
       "      <td>1.000000</td>\n",
       "      <td>1.000000</td>\n",
       "      <td>1.000000</td>\n",
       "      <td>1.000000</td>\n",
       "      <td>1.000000</td>\n",
       "      <td>3.000000</td>\n",
       "    </tr>\n",
       "  </tbody>\n",
       "</table>\n",
       "</div>"
      ],
      "text/plain": [
       "            country     age_group   travel_with       purpose  main_activity  \\\n",
       "count  14134.000000  14134.000000  14134.000000  14134.000000   14134.000000   \n",
       "mean      80.902434      1.391043      1.340951      1.765105       5.224848   \n",
       "std       40.359802      0.811355      1.425376      1.886021       3.338086   \n",
       "min        0.000000      0.000000      0.000000      0.000000       0.000000   \n",
       "25%       48.000000      1.000000      0.000000      1.000000       3.000000   \n",
       "50%      103.000000      1.000000      0.000000      1.000000       6.000000   \n",
       "75%      119.000000      2.000000      3.000000      1.000000       8.000000   \n",
       "max      126.000000      4.000000      4.000000      7.000000       9.000000   \n",
       "\n",
       "        info_source  tour_arrangement  night_mainland  night_zanzibar  \\\n",
       "count  14134.000000      14134.000000    14134.000000    14134.000000   \n",
       "mean       3.847106          0.509410        6.691948        1.780388   \n",
       "std        3.090221          0.499929        5.106429        2.798352   \n",
       "min        0.000000          0.000000        0.000000        0.000000   \n",
       "25%        0.000000          0.000000        3.000000        0.000000   \n",
       "50%        4.000000          1.000000        6.000000        0.000000   \n",
       "75%        7.000000          1.000000       10.000000        4.000000   \n",
       "max        7.000000          1.000000       23.000000       10.000000   \n",
       "\n",
       "       cost_category  package_transport_int_Yes  package_accomodation_Yes  \\\n",
       "count   14134.000000               14134.000000              14134.000000   \n",
       "mean        2.658059                   0.334583                  0.492359   \n",
       "std         2.006259                   0.471861                  0.499959   \n",
       "min         0.000000                   0.000000                  0.000000   \n",
       "25%         1.000000                   0.000000                  0.000000   \n",
       "50%         3.000000                   0.000000                  0.000000   \n",
       "75%         5.000000                   1.000000                  1.000000   \n",
       "max         5.000000                   1.000000                  1.000000   \n",
       "\n",
       "       package_food_Yes  package_transport_tz_Yes  package_sightseeing_Yes  \\\n",
       "count      14134.000000              14134.000000             14134.000000   \n",
       "mean           0.461582                  0.424013                 0.319230   \n",
       "std            0.498540                  0.494210                 0.466195   \n",
       "min            0.000000                  0.000000                 0.000000   \n",
       "25%            0.000000                  0.000000                 0.000000   \n",
       "50%            0.000000                  0.000000                 0.000000   \n",
       "75%            1.000000                  1.000000                 1.000000   \n",
       "max            1.000000                  1.000000                 1.000000   \n",
       "\n",
       "       package_guided_tour_Yes  package_insurance_Yes  first_trip_tz_Yes  \\\n",
       "count             14134.000000           14134.000000       14134.000000   \n",
       "mean                  0.340031               0.147800           0.684520   \n",
       "std                   0.473736               0.354914           0.464723   \n",
       "min                   0.000000               0.000000           0.000000   \n",
       "25%                   0.000000               0.000000           0.000000   \n",
       "50%                   0.000000               0.000000           1.000000   \n",
       "75%                   1.000000               0.000000           1.000000   \n",
       "max                   1.000000               1.000000           1.000000   \n",
       "\n",
       "         total_size  \n",
       "count  14134.000000  \n",
       "mean       1.456912  \n",
       "std        0.564352  \n",
       "min        0.000000  \n",
       "25%        1.000000  \n",
       "50%        1.000000  \n",
       "75%        2.000000  \n",
       "max        3.000000  "
      ]
     },
     "execution_count": 69,
     "metadata": {},
     "output_type": "execute_result"
    }
   ],
   "source": [
    "data.describe()"
   ]
  },
  {
   "cell_type": "code",
   "execution_count": 70,
   "id": "10293641",
   "metadata": {},
   "outputs": [],
   "source": [
    "# Setting x and y parameters\n",
    "# x denotes feature columns and y denotes target columns\n",
    "x=data.drop(['cost_category'],axis=1)\n",
    "y=pd.DataFrame(data['cost_category'])"
   ]
  },
  {
   "cell_type": "markdown",
   "id": "a694a19f",
   "metadata": {},
   "source": [
    "## 5.Standardization/Normalization"
   ]
  },
  {
   "cell_type": "code",
   "execution_count": 71,
   "id": "c039ca39",
   "metadata": {},
   "outputs": [
    {
     "data": {
      "text/html": [
       "<div>\n",
       "<style scoped>\n",
       "    .dataframe tbody tr th:only-of-type {\n",
       "        vertical-align: middle;\n",
       "    }\n",
       "\n",
       "    .dataframe tbody tr th {\n",
       "        vertical-align: top;\n",
       "    }\n",
       "\n",
       "    .dataframe thead th {\n",
       "        text-align: right;\n",
       "    }\n",
       "</style>\n",
       "<table border=\"1\" class=\"dataframe\">\n",
       "  <thead>\n",
       "    <tr style=\"text-align: right;\">\n",
       "      <th></th>\n",
       "      <th>0</th>\n",
       "      <th>1</th>\n",
       "      <th>2</th>\n",
       "      <th>3</th>\n",
       "      <th>4</th>\n",
       "      <th>5</th>\n",
       "      <th>6</th>\n",
       "      <th>7</th>\n",
       "      <th>8</th>\n",
       "      <th>9</th>\n",
       "      <th>10</th>\n",
       "      <th>11</th>\n",
       "      <th>12</th>\n",
       "      <th>13</th>\n",
       "      <th>14</th>\n",
       "      <th>15</th>\n",
       "      <th>16</th>\n",
       "      <th>17</th>\n",
       "    </tr>\n",
       "  </thead>\n",
       "  <tbody>\n",
       "    <tr>\n",
       "      <th>count</th>\n",
       "      <td>14134.000000</td>\n",
       "      <td>14134.000000</td>\n",
       "      <td>14134.000000</td>\n",
       "      <td>14134.000000</td>\n",
       "      <td>14134.000000</td>\n",
       "      <td>14134.000000</td>\n",
       "      <td>14134.000000</td>\n",
       "      <td>14134.000000</td>\n",
       "      <td>14134.000000</td>\n",
       "      <td>14134.000000</td>\n",
       "      <td>14134.000000</td>\n",
       "      <td>14134.000000</td>\n",
       "      <td>14134.000000</td>\n",
       "      <td>14134.000000</td>\n",
       "      <td>14134.000000</td>\n",
       "      <td>14134.000000</td>\n",
       "      <td>14134.000000</td>\n",
       "      <td>14134.000000</td>\n",
       "    </tr>\n",
       "    <tr>\n",
       "      <th>mean</th>\n",
       "      <td>0.642083</td>\n",
       "      <td>0.347761</td>\n",
       "      <td>0.335238</td>\n",
       "      <td>0.252158</td>\n",
       "      <td>0.580539</td>\n",
       "      <td>0.549587</td>\n",
       "      <td>0.509410</td>\n",
       "      <td>0.290954</td>\n",
       "      <td>0.178039</td>\n",
       "      <td>0.334583</td>\n",
       "      <td>0.492359</td>\n",
       "      <td>0.461582</td>\n",
       "      <td>0.424013</td>\n",
       "      <td>0.319230</td>\n",
       "      <td>0.340031</td>\n",
       "      <td>0.147800</td>\n",
       "      <td>0.684520</td>\n",
       "      <td>0.485637</td>\n",
       "    </tr>\n",
       "    <tr>\n",
       "      <th>std</th>\n",
       "      <td>0.320316</td>\n",
       "      <td>0.202839</td>\n",
       "      <td>0.356344</td>\n",
       "      <td>0.269432</td>\n",
       "      <td>0.370898</td>\n",
       "      <td>0.441460</td>\n",
       "      <td>0.499929</td>\n",
       "      <td>0.222019</td>\n",
       "      <td>0.279835</td>\n",
       "      <td>0.471861</td>\n",
       "      <td>0.499959</td>\n",
       "      <td>0.498540</td>\n",
       "      <td>0.494210</td>\n",
       "      <td>0.466195</td>\n",
       "      <td>0.473736</td>\n",
       "      <td>0.354914</td>\n",
       "      <td>0.464723</td>\n",
       "      <td>0.188117</td>\n",
       "    </tr>\n",
       "    <tr>\n",
       "      <th>min</th>\n",
       "      <td>0.000000</td>\n",
       "      <td>0.000000</td>\n",
       "      <td>0.000000</td>\n",
       "      <td>0.000000</td>\n",
       "      <td>0.000000</td>\n",
       "      <td>0.000000</td>\n",
       "      <td>0.000000</td>\n",
       "      <td>0.000000</td>\n",
       "      <td>0.000000</td>\n",
       "      <td>0.000000</td>\n",
       "      <td>0.000000</td>\n",
       "      <td>0.000000</td>\n",
       "      <td>0.000000</td>\n",
       "      <td>0.000000</td>\n",
       "      <td>0.000000</td>\n",
       "      <td>0.000000</td>\n",
       "      <td>0.000000</td>\n",
       "      <td>0.000000</td>\n",
       "    </tr>\n",
       "    <tr>\n",
       "      <th>25%</th>\n",
       "      <td>0.380952</td>\n",
       "      <td>0.250000</td>\n",
       "      <td>0.000000</td>\n",
       "      <td>0.142857</td>\n",
       "      <td>0.333333</td>\n",
       "      <td>0.000000</td>\n",
       "      <td>0.000000</td>\n",
       "      <td>0.130435</td>\n",
       "      <td>0.000000</td>\n",
       "      <td>0.000000</td>\n",
       "      <td>0.000000</td>\n",
       "      <td>0.000000</td>\n",
       "      <td>0.000000</td>\n",
       "      <td>0.000000</td>\n",
       "      <td>0.000000</td>\n",
       "      <td>0.000000</td>\n",
       "      <td>0.000000</td>\n",
       "      <td>0.333333</td>\n",
       "    </tr>\n",
       "    <tr>\n",
       "      <th>50%</th>\n",
       "      <td>0.817460</td>\n",
       "      <td>0.250000</td>\n",
       "      <td>0.000000</td>\n",
       "      <td>0.142857</td>\n",
       "      <td>0.666667</td>\n",
       "      <td>0.571429</td>\n",
       "      <td>1.000000</td>\n",
       "      <td>0.260870</td>\n",
       "      <td>0.000000</td>\n",
       "      <td>0.000000</td>\n",
       "      <td>0.000000</td>\n",
       "      <td>0.000000</td>\n",
       "      <td>0.000000</td>\n",
       "      <td>0.000000</td>\n",
       "      <td>0.000000</td>\n",
       "      <td>0.000000</td>\n",
       "      <td>1.000000</td>\n",
       "      <td>0.333333</td>\n",
       "    </tr>\n",
       "    <tr>\n",
       "      <th>75%</th>\n",
       "      <td>0.944444</td>\n",
       "      <td>0.500000</td>\n",
       "      <td>0.750000</td>\n",
       "      <td>0.142857</td>\n",
       "      <td>0.888889</td>\n",
       "      <td>1.000000</td>\n",
       "      <td>1.000000</td>\n",
       "      <td>0.434783</td>\n",
       "      <td>0.400000</td>\n",
       "      <td>1.000000</td>\n",
       "      <td>1.000000</td>\n",
       "      <td>1.000000</td>\n",
       "      <td>1.000000</td>\n",
       "      <td>1.000000</td>\n",
       "      <td>1.000000</td>\n",
       "      <td>0.000000</td>\n",
       "      <td>1.000000</td>\n",
       "      <td>0.666667</td>\n",
       "    </tr>\n",
       "    <tr>\n",
       "      <th>max</th>\n",
       "      <td>1.000000</td>\n",
       "      <td>1.000000</td>\n",
       "      <td>1.000000</td>\n",
       "      <td>1.000000</td>\n",
       "      <td>1.000000</td>\n",
       "      <td>1.000000</td>\n",
       "      <td>1.000000</td>\n",
       "      <td>1.000000</td>\n",
       "      <td>1.000000</td>\n",
       "      <td>1.000000</td>\n",
       "      <td>1.000000</td>\n",
       "      <td>1.000000</td>\n",
       "      <td>1.000000</td>\n",
       "      <td>1.000000</td>\n",
       "      <td>1.000000</td>\n",
       "      <td>1.000000</td>\n",
       "      <td>1.000000</td>\n",
       "      <td>1.000000</td>\n",
       "    </tr>\n",
       "  </tbody>\n",
       "</table>\n",
       "</div>"
      ],
      "text/plain": [
       "                 0             1             2             3             4   \\\n",
       "count  14134.000000  14134.000000  14134.000000  14134.000000  14134.000000   \n",
       "mean       0.642083      0.347761      0.335238      0.252158      0.580539   \n",
       "std        0.320316      0.202839      0.356344      0.269432      0.370898   \n",
       "min        0.000000      0.000000      0.000000      0.000000      0.000000   \n",
       "25%        0.380952      0.250000      0.000000      0.142857      0.333333   \n",
       "50%        0.817460      0.250000      0.000000      0.142857      0.666667   \n",
       "75%        0.944444      0.500000      0.750000      0.142857      0.888889   \n",
       "max        1.000000      1.000000      1.000000      1.000000      1.000000   \n",
       "\n",
       "                 5             6             7             8             9   \\\n",
       "count  14134.000000  14134.000000  14134.000000  14134.000000  14134.000000   \n",
       "mean       0.549587      0.509410      0.290954      0.178039      0.334583   \n",
       "std        0.441460      0.499929      0.222019      0.279835      0.471861   \n",
       "min        0.000000      0.000000      0.000000      0.000000      0.000000   \n",
       "25%        0.000000      0.000000      0.130435      0.000000      0.000000   \n",
       "50%        0.571429      1.000000      0.260870      0.000000      0.000000   \n",
       "75%        1.000000      1.000000      0.434783      0.400000      1.000000   \n",
       "max        1.000000      1.000000      1.000000      1.000000      1.000000   \n",
       "\n",
       "                 10            11            12            13            14  \\\n",
       "count  14134.000000  14134.000000  14134.000000  14134.000000  14134.000000   \n",
       "mean       0.492359      0.461582      0.424013      0.319230      0.340031   \n",
       "std        0.499959      0.498540      0.494210      0.466195      0.473736   \n",
       "min        0.000000      0.000000      0.000000      0.000000      0.000000   \n",
       "25%        0.000000      0.000000      0.000000      0.000000      0.000000   \n",
       "50%        0.000000      0.000000      0.000000      0.000000      0.000000   \n",
       "75%        1.000000      1.000000      1.000000      1.000000      1.000000   \n",
       "max        1.000000      1.000000      1.000000      1.000000      1.000000   \n",
       "\n",
       "                 15            16            17  \n",
       "count  14134.000000  14134.000000  14134.000000  \n",
       "mean       0.147800      0.684520      0.485637  \n",
       "std        0.354914      0.464723      0.188117  \n",
       "min        0.000000      0.000000      0.000000  \n",
       "25%        0.000000      0.000000      0.333333  \n",
       "50%        0.000000      1.000000      0.333333  \n",
       "75%        0.000000      1.000000      0.666667  \n",
       "max        1.000000      1.000000      1.000000  "
      ]
     },
     "execution_count": 71,
     "metadata": {},
     "output_type": "execute_result"
    }
   ],
   "source": [
    "from sklearn import preprocessing\n",
    "min_max=preprocessing.MinMaxScaler(feature_range=(0,1))\n",
    "x=min_max.fit_transform(x)\n",
    "x=pd.DataFrame(x)\n",
    "x.describe()"
   ]
  },
  {
   "cell_type": "markdown",
   "id": "e9eac004",
   "metadata": {},
   "source": [
    "## 6.Feature Engineering"
   ]
  },
  {
   "cell_type": "code",
   "execution_count": 72,
   "id": "6d01962b",
   "metadata": {},
   "outputs": [],
   "source": [
    "# Splitting the data set\n",
    "from sklearn.model_selection import train_test_split\n",
    "x_train,x_test,y_train,y_test=train_test_split(x,y,test_size=0.3,random_state=2)"
   ]
  },
  {
   "cell_type": "markdown",
   "id": "164176a9",
   "metadata": {},
   "source": [
    "# Modelling"
   ]
  },
  {
   "cell_type": "code",
   "execution_count": 75,
   "id": "9cc2741e",
   "metadata": {},
   "outputs": [],
   "source": [
    "# Model 1 : Random Forest Model\n",
    "from sklearn.ensemble import RandomForestClassifier\n",
    "rf=RandomForestClassifier()\n",
    "rf.fit(x_train,y_train)\n",
    "y_pred=rf.predict(x_test)"
   ]
  },
  {
   "cell_type": "code",
   "execution_count": 76,
   "id": "3fb61eaa",
   "metadata": {},
   "outputs": [
    {
     "name": "stdout",
     "output_type": "stream",
     "text": [
      "Confusion matrix : \n",
      " [[393 243   7   8  20 202]\n",
      " [166 719  10   2   3  89]\n",
      " [  9  38   3   0   0   4]\n",
      " [  9  10   0  55 121 178]\n",
      " [ 12  19   1  67 363 207]\n",
      " [162  88   3  80 121 829]]\n",
      "F1_score : 0.5569441169535487\n",
      "Accuracy : 0.5569441169535487\n",
      "MSE : 3.531950011789672\n"
     ]
    }
   ],
   "source": [
    "from sklearn.metrics import f1_score,confusion_matrix,accuracy_score,mean_squared_error\n",
    "print('Confusion matrix : \\n',confusion_matrix(y_test,y_pred))\n",
    "print('F1_score :',f1_score(y_test,y_pred,average='micro'))\n",
    "print('Accuracy :',accuracy_score(y_test,y_pred)) \n",
    "print('MSE :',mean_squared_error(y_test,y_pred))"
   ]
  },
  {
   "cell_type": "code",
   "execution_count": 77,
   "id": "322aa79d",
   "metadata": {},
   "outputs": [],
   "source": [
    "# Model 2 : Decision Tree Model\n",
    "from sklearn.tree import DecisionTreeClassifier\n",
    "dt_model=DecisionTreeClassifier()\n",
    "dt_model.fit(x_train,y_train)\n",
    "y_pred=dt_model.predict(x_test)"
   ]
  },
  {
   "cell_type": "code",
   "execution_count": 78,
   "id": "7434265c",
   "metadata": {},
   "outputs": [
    {
     "name": "stdout",
     "output_type": "stream",
     "text": [
      "Confusion matrix : \n",
      " [[367 223  19  19  38 207]\n",
      " [214 567  31  14  19 144]\n",
      " [ 12  33   3   1   0   5]\n",
      " [ 14  16   0 103 117 123]\n",
      " [ 30  26   0 149 311 153]\n",
      " [229 107   3 175 177 592]]\n",
      "F1_score : 0.45814666352275407\n",
      "Accuracy : 0.45814666352275407\n"
     ]
    }
   ],
   "source": [
    "print('Confusion matrix : \\n',confusion_matrix(y_test,y_pred))\n",
    "print('F1_score :',f1_score(y_pred, y_test,average='micro'))\n",
    "print('Accuracy :',accuracy_score(y_test,y_pred))"
   ]
  },
  {
   "cell_type": "code",
   "execution_count": 79,
   "id": "292bccb5",
   "metadata": {},
   "outputs": [],
   "source": [
    "# Model 3 : Logistic Regression\n",
    "from sklearn.linear_model import LogisticRegression\n",
    "logit_model=LogisticRegression()\n",
    "logit_model.fit(x_train,y_train)\n",
    "y_pred=logit_model.predict(x_test)"
   ]
  },
  {
   "cell_type": "code",
   "execution_count": 80,
   "id": "b2b6ed60",
   "metadata": {},
   "outputs": [
    {
     "name": "stdout",
     "output_type": "stream",
     "text": [
      "Confusion matrix : \n",
      " [[324 309   0   0  17 223]\n",
      " [150 742   0   0   2  95]\n",
      " [ 15  38   0   0   0   1]\n",
      " [ 11   9   0   0 175 178]\n",
      " [  9  23   0   0 405 232]\n",
      " [138  88   0   0 207 850]]\n",
      "F1_score : 0.5472765857109172\n",
      "Accuracy : 0.5472765857109172\n"
     ]
    }
   ],
   "source": [
    "print('Confusion matrix : \\n',confusion_matrix(y_test,y_pred))\n",
    "print('F1_score :',f1_score(y_pred, y_test,average='micro'))\n",
    "print('Accuracy :',accuracy_score(y_test,y_pred))"
   ]
  },
  {
   "cell_type": "markdown",
   "id": "8271bcc8",
   "metadata": {},
   "source": [
    "Of these three models, Random Forest Model has better accuracy of about 0.549 than the logistic regression model and the \n",
    "decision tree model.Hence we can predict the outcome using the Random Forest Model"
   ]
  },
  {
   "cell_type": "markdown",
   "id": "ccc19153",
   "metadata": {},
   "source": [
    "# Model Fine Tuning"
   ]
  },
  {
   "cell_type": "code",
   "execution_count": 81,
   "id": "c6eab699",
   "metadata": {},
   "outputs": [
    {
     "name": "stdout",
     "output_type": "stream",
     "text": [
      "F1 score :  0.5805234614477718\n",
      "Accuracy :  0.5805234614477718\n"
     ]
    }
   ],
   "source": [
    "rf.fit(x_train,y_train)\n",
    "rft=RandomForestClassifier(n_estimators=150,max_depth=10,random_state=42,criterion='entropy')\n",
    "rft.fit(x_train,y_train)\n",
    "y_pred=rft.predict(x_test)\n",
    "print('F1 score : ',f1_score(y_test,y_pred,average='micro'))\n",
    "print('Accuracy : ', accuracy_score(y_test,y_pred))\n"
   ]
  },
  {
   "cell_type": "markdown",
   "id": "f5308ed6",
   "metadata": {},
   "source": [
    "After fine tuning of the Random forest model, the accuracy is improved to 0.58"
   ]
  },
  {
   "cell_type": "code",
   "execution_count": null,
   "id": "223c22f5",
   "metadata": {},
   "outputs": [],
   "source": []
  }
 ],
 "metadata": {
  "kernelspec": {
   "display_name": "Python 3 (ipykernel)",
   "language": "python",
   "name": "python3"
  },
  "language_info": {
   "codemirror_mode": {
    "name": "ipython",
    "version": 3
   },
   "file_extension": ".py",
   "mimetype": "text/x-python",
   "name": "python",
   "nbconvert_exporter": "python",
   "pygments_lexer": "ipython3",
   "version": "3.9.12"
  }
 },
 "nbformat": 4,
 "nbformat_minor": 5
}
